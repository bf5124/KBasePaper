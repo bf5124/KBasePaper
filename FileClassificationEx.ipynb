{
 "cells": [
  {
   "cell_type": "code",
   "execution_count": 251,
   "metadata": {},
   "outputs": [],
   "source": [
    "import pandas as pd\n",
    "import numpy as np\n",
    "import sklearn\n",
    "from sklearn.model_selection import train_test_split\n",
    "from sklearn.feature_extraction.text import TfidfVectorizer\n",
    "import xgboost as xgb\n",
    "from sklearn.metrics import precision_score\n",
    "import os\n",
    "import gzip\n",
    "import random\n",
    "from matplotlib import pyplot\n",
    "from sklearn.pipeline import make_pipeline"
   ]
  },
  {
   "cell_type": "code",
   "execution_count": 252,
   "metadata": {},
   "outputs": [],
   "source": [
    "#Returns a string of length bytes long\n",
    "def dataloader(filepath, length):\n",
    "    f = gzip.GzipFile(fileobj=open(filepath, 'rb'))\n",
    "    data = f.read(length)\n",
    "    return data.decode(\"utf-8\")"
   ]
  },
  {
   "cell_type": "code",
   "execution_count": 253,
   "metadata": {},
   "outputs": [],
   "source": [
    "#Splits the data into num_chunks\n",
    "def chunk(in_string,num_chunks):\n",
    "    chunk_size = len(in_string)//num_chunks\n",
    "    if len(in_string) % num_chunks: chunk_size += 1\n",
    "    iterator = iter(in_string)\n",
    "    for _ in range(num_chunks):\n",
    "        accumulator = list()\n",
    "        for _ in range(chunk_size):\n",
    "            try: accumulator.append(next(iterator))\n",
    "            except StopIteration: break\n",
    "        yield ''.join(accumulator)"
   ]
  },
  {
   "cell_type": "code",
   "execution_count": 295,
   "metadata": {},
   "outputs": [],
   "source": [
    "def FeatureImportance(model, features, importance):\n",
    "    for im in importance:\n",
    "        feature_important = model.get_score(importance_type = im)\n",
    "        keys = list(feature_important.keys())\n",
    "        feature_chars = []\n",
    "        keylist = []\n",
    "        for key in keys:\n",
    "            keylist.append(int(key.replace('f','')))\n",
    "        for i in keylist:\n",
    "            feature_chars.append(features[i])\n",
    "        values = list(feature_important.values())\n",
    "        fdata = pd.DataFrame(data=values, index=feature_chars, columns=[\"score\"]).sort_values(by = \"score\", ascending=False)\n",
    "        fdata.plot(kind='barh', title = im)    \n",
    "        \n",
    "    "
   ]
  },
  {
   "cell_type": "code",
   "execution_count": 302,
   "metadata": {},
   "outputs": [],
   "source": [
    "def FileClassifier(Dataset, ngram_range, max_features, param, num_round):\n",
    "    \n",
    "    X = Dataset.iloc[:,0].values\n",
    "    y = Dataset.iloc[:,1].values\n",
    "\n",
    "    X_train, X_test, y_train, y_test = train_test_split(X, y, test_size=0.2, random_state = 42)\n",
    "    char_vectorizer = TfidfVectorizer(analyzer = 'char',\n",
    "        ngram_range = ngram_range, max_features = max_features)\n",
    "    char_vectorizer.fit(X)\n",
    "    #print(type(X_train))\n",
    "    train_chars = char_vectorizer.transform(X_train)\n",
    "    test_chars = char_vectorizer.transform(X_test)\n",
    "    #print(type(test_chars.todense()))\n",
    "    #xgbmodel = make_pipeline()\n",
    "    \n",
    "    \n",
    "    dtrain = xgb.DMatrix(train_chars, label = y_train)\n",
    "    #print(dtrain.columns)\n",
    "    dtest = xgb.DMatrix(test_chars, label = y_test)\n",
    "    \n",
    "    model = xgb.train(param, dtrain, num_round)\n",
    "    #print(model)\n",
    "    #model = xgb.XGBClassifier(param)\n",
    "    #model.fit(train_chars, y_train)\n",
    "    #xgb.plot_importance(model)\n",
    "    #pyplot.show()\n",
    "    \n",
    "    FeatureImportance(model, char_vectorizer.get_feature_names(), ['weight','cover','gain'])\n",
    "    \n",
    "    preds = model.predict(dtest)\n",
    "    best_preds = np.asarray([np.argmax(line) for line in preds])\n",
    "    print(precision_score(y_test, best_preds, average='macro'))\n",
    "    print(np.asarray(y_test).reshape(1,-1).squeeze())\n",
    "    print(best_preds)\n",
    "    \n",
    "    \n",
    "    return(model)"
   ]
  },
  {
   "cell_type": "code",
   "execution_count": 275,
   "metadata": {},
   "outputs": [],
   "source": [
    "data = dataloader('/Users/bf/Desktop/BNL2020/BioClassifierFiles/GCA_902387845.1_UHGG_MGYG-HGUT-02512_genomic.fna.gz', 40000)\n",
    "data1 = dataloader('/Users/bf/Desktop/BNL2020/BioClassifierFiles/SRR9259133.fastq.gz', 40000)\n",
    "data2 = dataloader('/Users/bf/Desktop/BNL2020/BioClassifierFiles/GCA_002097535.1_ASM209753v1_genomic.gff.gz', 40000)\n",
    "data3 = dataloader('/Users/bf/Desktop/BNL2020/BioClassifierFiles/GCA_003568845.1_ASM356884v1_genomic.gbff.gz', 40000)"
   ]
  },
  {
   "cell_type": "code",
   "execution_count": 276,
   "metadata": {},
   "outputs": [],
   "source": [
    "#Split the 40000 byte data into 1000 byte pieces\n",
    "FastDat = list(chunk(data,40)) + list(chunk(data1, 40)) + list(chunk(data2, 40)) + list(chunk(data3, 40))\n",
    "data = {'FastDat': FastDat,\n",
    "        'Type': np.concatenate((np.repeat(0,40),np.repeat(1,40), np.repeat(2,40), np.repeat(3,40)))\n",
    "    }\n",
    "df = pd.DataFrame(data, columns = ['FastDat', 'Type'])\n"
   ]
  },
  {
   "cell_type": "code",
   "execution_count": 293,
   "metadata": {},
   "outputs": [],
   "source": [
    "param = {\n",
    "    'max_depth': 4,  # the maximum depth of each tree\n",
    "    'eta': 0.2,  # the training step for each iteration\n",
    "    'silent': 1,  # logging mode - quiet\n",
    "    'objective': 'multi:softprob',  # error evaluation for multiclass training\n",
    "    'num_class': 4}  # the number of classes that exist in this datset\n",
    "num_round = 40 \n",
    "ngram_range = (2,4)\n",
    "max_features = 10000\n",
    "Dataset = df\n",
    "max_len = 20"
   ]
  },
  {
   "cell_type": "code",
   "execution_count": 303,
   "metadata": {},
   "outputs": [
    {
     "name": "stdout",
     "output_type": "stream",
     "text": [
      "[09:57:59] WARNING: /Users/travis/build/dmlc/xgboost/src/learner.cc:480: \n",
      "Parameters: { silent } might not be used.\n",
      "\n",
      "  This may not be accurate due to some parameters are only used in language bindings but\n",
      "  passed down to XGBoost core.  Or some parameters are not used but slip through this\n",
      "  verification. Please open an issue if you find above cases.\n",
      "\n",
      "\n",
      "1.0\n",
      "[2 2 3 1 2 0 2 1 2 3 0 2 0 1 0 0 3 3 2 0 1 0 0 0 0 3 2 1 3 2 3 1]\n",
      "[2 2 3 1 2 0 2 1 2 3 0 2 0 1 0 0 3 3 2 0 1 0 0 0 0 3 2 1 3 2 3 1]\n"
     ]
    },
    {
     "data": {
      "image/png": "[encoded data removed]",
      "text/plain": [
       "<Figure size 432x288 with 1 Axes>"
      ]
     },
     "metadata": {
      "needs_background": "light"
     },
     "output_type": "display_data"
    },
    {
     "data": {
      "image/png": "[encoded data removed]",
      "text/plain": [
       "<Figure size 432x288 with 1 Axes>"
      ]
     },
     "metadata": {
      "needs_background": "light"
     },
     "output_type": "display_data"
    },
    {
     "data": {
      "image/png": "[encoded data removed]",
      "text/plain": [
       "<Figure size 432x288 with 1 Axes>"
      ]
     },
     "metadata": {
      "needs_background": "light"
     },
     "output_type": "display_data"
    }
   ],
   "source": [
    "xgbmodel = FileClassifier(Dataset, ngram_range, max_features, param, num_round)"
   ]
  },
  {
   "cell_type": "code",
   "execution_count": 163,
   "metadata": {},
   "outputs": [],
   "source": [
    "tdat = dataloader('/Users/bf/Desktop/BNL2020/BioClassifierFiles/GCA_902387845.1_UHGG_MGYG-HGUT-02512_genomic.fna.gz', 1000)\n",
    "tdat2 = dataloader('/Users/bf/Desktop/BNL2020/BioClassifierFiles/genomic.fna/GCA_000894255.1_ViralProj81175_genomic.fna.gz',1000)"
   ]
  },
  {
   "cell_type": "code",
   "execution_count": 180,
   "metadata": {},
   "outputs": [],
   "source": [
    "datat = {'FastDat': tdat + tdat2,\n",
    "         'Type': np.repeat(0,2)\n",
    "    }\n",
    "dft = pd.DataFrame(datat, columns = ['FastDat', 'Type'])\n",
    "dft = dft[df.columns]"
   ]
  },
  {
   "cell_type": "code",
   "execution_count": 186,
   "metadata": {},
   "outputs": [
    {
     "data": {
      "text/html": [
       "<div>\n",
       "<style scoped>\n",
       "    .dataframe tbody tr th:only-of-type {\n",
       "        vertical-align: middle;\n",
       "    }\n",
       "\n",
       "    .dataframe tbody tr th {\n",
       "        vertical-align: top;\n",
       "    }\n",
       "\n",
       "    .dataframe thead th {\n",
       "        text-align: right;\n",
       "    }\n",
       "</style>\n",
       "<table border=\"1\" class=\"dataframe\">\n",
       "  <thead>\n",
       "    <tr style=\"text-align: right;\">\n",
       "      <th></th>\n",
       "      <th>FastDat</th>\n",
       "      <th>Type</th>\n",
       "    </tr>\n",
       "  </thead>\n",
       "  <tbody>\n",
       "    <tr>\n",
       "      <th>0</th>\n",
       "      <td>&gt;LR699007.1 Morganella morganii isolate MGYG-H...</td>\n",
       "      <td>0</td>\n",
       "    </tr>\n",
       "    <tr>\n",
       "      <th>1</th>\n",
       "      <td>&gt;LR699007.1 Morganella morganii isolate MGYG-H...</td>\n",
       "      <td>0</td>\n",
       "    </tr>\n",
       "  </tbody>\n",
       "</table>\n",
       "</div>"
      ],
      "text/plain": [
       "                                             FastDat  Type\n",
       "0  >LR699007.1 Morganella morganii isolate MGYG-H...     0\n",
       "1  >LR699007.1 Morganella morganii isolate MGYG-H...     0"
      ]
     },
     "execution_count": 186,
     "metadata": {},
     "output_type": "execute_result"
    }
   ],
   "source": [
    "dft"
   ]
  },
  {
   "cell_type": "code",
   "execution_count": 226,
   "metadata": {},
   "outputs": [],
   "source": [
    "X = df.iloc[:,0].values\n",
    "y = df.iloc[:,1].values"
   ]
  },
  {
   "cell_type": "code",
   "execution_count": 236,
   "metadata": {},
   "outputs": [],
   "source": [
    "X_train, X_test, y_train, y_test = train_test_split(X, y, test_size=0.5)"
   ]
  },
  {
   "cell_type": "code",
   "execution_count": 242,
   "metadata": {},
   "outputs": [],
   "source": [
    "char_vectorizer = TfidfVectorizer(analyzer = 'char',\n",
    "    ngram_range = ngram_range, max_features = max_features)\n",
    "char_vectorizer.fit(X)\n",
    "tc = char_vectorizer.transform(X_train)"
   ]
  },
  {
   "cell_type": "code",
   "execution_count": 243,
   "metadata": {},
   "outputs": [],
   "source": [
    "ttest = xgb.DMatrix(tc, y_train)"
   ]
  },
  {
   "cell_type": "code",
   "execution_count": 244,
   "metadata": {},
   "outputs": [],
   "source": [
    "bpred = np.asarray([np.argmax(line) for line in xgbmodel.predict(ttest)])"
   ]
  },
  {
   "cell_type": "code",
   "execution_count": 245,
   "metadata": {},
   "outputs": [
    {
     "data": {
      "text/plain": [
       "array([3, 0, 1, 3, 0, 0, 0, 2, 1, 2, 0, 3, 3, 2, 1, 3, 1, 3, 0, 1, 1, 1,\n",
       "       1, 1, 1, 0, 3, 2, 3, 1, 0, 1, 1, 3, 1, 0, 2, 2, 0, 0, 3, 1, 3, 2,\n",
       "       0, 1, 0, 2, 1, 0, 0, 3, 2, 2, 3, 1, 0, 0, 3, 3, 3, 2, 0, 0, 2, 0,\n",
       "       2, 2, 2, 0, 2, 3, 2, 3, 2, 2, 1, 1, 2, 2])"
      ]
     },
     "execution_count": 245,
     "metadata": {},
     "output_type": "execute_result"
    }
   ],
   "source": [
    "np.asarray(y_train).reshape(1,-1).squeeze()"
   ]
  },
  {
   "cell_type": "code",
   "execution_count": 246,
   "metadata": {},
   "outputs": [
    {
     "data": {
      "text/plain": [
       "1.0"
      ]
     },
     "execution_count": 246,
     "metadata": {},
     "output_type": "execute_result"
    }
   ],
   "source": [
    "precision_score(y_train, bpred, average='macro')"
   ]
  },
  {
   "cell_type": "code",
   "execution_count": null,
   "metadata": {},
   "outputs": [],
   "source": []
  }
 ],
 "metadata": {
  "kernelspec": {
   "display_name": "Python 3",
   "language": "python",
   "name": "python3"
  },
  "language_info": {
   "codemirror_mode": {
    "name": "ipython",
    "version": 3
   },
   "file_extension": ".py",
   "mimetype": "text/x-python",
   "name": "python",
   "nbconvert_exporter": "python",
   "pygments_lexer": "ipython3",
   "version": "3.7.1"
  }
 },
 "nbformat": 4,
 "nbformat_minor": 2
}
