{
 "cells": [
  {
   "cell_type": "code",
   "execution_count": 1,
   "metadata": {},
   "outputs": [
    {
     "name": "stderr",
     "output_type": "stream",
     "text": [
      "/anaconda3/lib/python3.7/site-packages/dask/dataframe/utils.py:13: FutureWarning: pandas.util.testing is deprecated. Use the functions in the public API at pandas.testing instead.\n",
      "  import pandas.util.testing as tm\n"
     ]
    }
   ],
   "source": [
    "import pandas as pd\n",
    "import numpy as np\n",
    "import sklearn\n",
    "from sklearn.model_selection import train_test_split\n",
    "from sklearn.feature_extraction.text import TfidfVectorizer\n",
    "from sklearn.pipeline import FeatureUnion\n",
    "import re\n",
    "import xgboost as xgb\n",
    "from sklearn.metrics import precision_score\n",
    "import os\n",
    "import gzip\n",
    "import random\n",
    "from matplotlib import pyplot as plt\n",
    "from sklearn.pipeline import make_pipeline\n",
    "import pickle\n",
    "import seaborn as sns\n",
    "from sklearn.metrics import confusion_matrix\n",
    "import scikitplot as skplt\n",
    "import time"
   ]
  },
  {
   "cell_type": "code",
   "execution_count": 2,
   "metadata": {},
   "outputs": [],
   "source": [
    "#Returns a string of length bytes long\n",
    "\n",
    "def dataloader(filepath, length):\n",
    "    f = gzip.GzipFile(fileobj=open(filepath, 'rb'))\n",
    "    data = f.read(length)\n",
    "    return data.decode(\"utf-8\")"
   ]
  },
  {
   "cell_type": "code",
   "execution_count": 3,
   "metadata": {},
   "outputs": [],
   "source": [
    "#Returns dataframe of # of files long. Analyze the first length bytes of each file\n",
    "\n",
    "def trainloader(direclist, filetype, length):\n",
    "    fileid = np.arange(len(filetype))\n",
    "    dat = []\n",
    "    filelabels = []\n",
    "    c = -1\n",
    "    for direc in direclist:\n",
    "        c+=1\n",
    "        for file in os.listdir(direc):\n",
    "            if file.endswith('.gz'):\n",
    "                tempdat = dataloader(os.path.join(direc,file),length)\n",
    "                dat = dat + [tempdat]\n",
    "                filelabels.append(fileid[c])\n",
    "            if file.endswith('fastq.truncated'):\n",
    "                tfile = open(os.path.join(direc,file), 'rb')\n",
    "                tempdat = tfile.read(length).decode(\"utf-8\")\n",
    "                dat = dat + [tempdat]\n",
    "                filelabels.append(fileid[c])\n",
    "            if file.endswith('sra.truncated'):\n",
    "                tfile = open(os.path.join(direc,file), 'rb')\n",
    "                tempdat = tfile.read(length).decode(\"ISO-8859-1\")\n",
    "                dat = dat + [tempdat]\n",
    "                filelabels.append(fileid[c])\n",
    "    data = {'Data': dat,\n",
    "        'Type': filelabels\n",
    "    }\n",
    "    df = pd.DataFrame(data, columns = ['Data', 'Type'])\n",
    "    return(df)"
   ]
  },
  {
   "cell_type": "code",
   "execution_count": 4,
   "metadata": {},
   "outputs": [],
   "source": [
    "# Returns rows of correctly classified features\n",
    "\n",
    "def rowextraction(predicted, truth):\n",
    "    return([np.where(predicted==truth)[0], np.where(predicted!=truth)[0]])"
   ]
  },
  {
   "cell_type": "code",
   "execution_count": 5,
   "metadata": {},
   "outputs": [],
   "source": [
    "# Returns distribution of probability of class being correct for correctly classified features\n",
    "\n",
    "def uncertainty(pred, row_ind, num_classes):\n",
    "    class_arr = [[] for i in range(num_classes)]\n",
    "    dist_arr = []\n",
    "    for ind in row_ind:\n",
    "        class_ind = np.argmax(pred[ind])\n",
    "        class_arr[class_ind].append(np.max(pred[ind]))\n",
    "    for arr in class_arr:\n",
    "        dist_arr.append([np.mean(arr),np.std(arr)])\n",
    "    return(dist_arr)"
   ]
  },
  {
   "cell_type": "code",
   "execution_count": 6,
   "metadata": {},
   "outputs": [],
   "source": [
    "# Returns Graphs of Feature Importance by Importance Type\n",
    "\n",
    "def FeatureImportance(model, features, importance):\n",
    "    for im in importance:\n",
    "        feature_important = model.get_score(importance_type = im)\n",
    "        keys = list(feature_important.keys())\n",
    "        feature_chars = []\n",
    "        keylist = []\n",
    "        for key in keys:\n",
    "            keylist.append(int(key.replace('f','')))\n",
    "        for i in keylist:\n",
    "            feature_chars.append(features[i])\n",
    "        values = list(feature_important.values())\n",
    "        fdata = pd.DataFrame(data=values, index=feature_chars, columns=[\"score\"]).sort_values(by = \"score\", ascending=False)\n",
    "        fdata.plot(kind='barh', title = im)    \n",
    "        \n",
    "    "
   ]
  },
  {
   "cell_type": "code",
   "execution_count": 7,
   "metadata": {},
   "outputs": [],
   "source": [
    "# Prints Confusion Matrix\n",
    "\n",
    "def confusionmatrix(truth, pred, names):\n",
    "    cm = confusion_matrix(truth, pred)\n",
    "    plt.figure()\n",
    "    plt.imshow(cm, interpolation=\"nearest\", cmap=plt.cm.Blues)\n",
    "    plt.colorbar().set_label(\"# Classified\")\n",
    "    tick_marks = np.arange(len(names))\n",
    "    plt.xticks(tick_marks, names, rotation=45)\n",
    "    plt.yticks(tick_marks, names)\n",
    "    plt.xlabel(\"Predicted Class\")\n",
    "    plt.ylabel(\"True Class\")\n",
    "    plt.title(\"Confusion Matrix\")\n",
    "    plt.show()"
   ]
  },
  {
   "cell_type": "code",
   "execution_count": 8,
   "metadata": {},
   "outputs": [],
   "source": [
    "# Returns Accuracy Per Class\n",
    "\n",
    "def classaccuracy(truth, pred, ind, num_classes):\n",
    "    classes = np.arange(num_classes)\n",
    "    predcl = np.asarray([np.argmax(pred[i]) for i in ind])\n",
    "    acc = []\n",
    "    for cl in classes:\n",
    "        truth_len = len(np.where(truth == cl)[0])\n",
    "        pred_len = len(np.where(predcl == cl)[0])\n",
    "        acc.append(pred_len/truth_len)\n",
    "    return(acc)"
   ]
  },
  {
   "cell_type": "code",
   "execution_count": 9,
   "metadata": {},
   "outputs": [],
   "source": [
    "#Splits our data into train/test\n",
    "\n",
    "def Data_Splitter(Dataset, ttsplit):\n",
    "    X = Dataset.iloc[:,0]\n",
    "    y = Dataset.iloc[:,1]\n",
    "    \n",
    "    X_train, X_test, y_train, y_test = train_test_split(X, y, test_size=ttsplit , random_state = 42)\n",
    "    X_train, X_val, y_train, y_val = train_test_split(X_train, y_train, test_size=ttsplit , random_state = 42)\n",
    "\n",
    "    return X_train, X_val, X_test, y_train, y_val, y_test"
   ]
  },
  {
   "cell_type": "code",
   "execution_count": 40,
   "metadata": {},
   "outputs": [],
   "source": [
    "# Tf-idf Transformation on Training and Testing data based on max_features # of vocabulary words\n",
    "# generated from each file class.\n",
    "\n",
    "def Char_vectorizer2(X_train, y_train, X_test, y_test, filetype, ngram_range, max_features, load):\n",
    "    \n",
    "    fitset = trainselector2(np.array(X_train), np.array(y_train), len(filetype))\n",
    "    \n",
    "    if load == False:\n",
    "        start = time.time()\n",
    "        print(\"Generating Character Vectorizer...\")\n",
    "        char_vocab = {}\n",
    "        for fileset in fitset:\n",
    "            char_vectorizer = TfidfVectorizer(analyzer = 'char',\n",
    "                ngram_range = ngram_range, max_features = max_features)\n",
    "            char_vectorizer.fit(fileset)\n",
    "            char_vocab.update(char_vectorizer.vocabulary_)\n",
    "            \n",
    "        count = -1\n",
    "        for key in char_vocab.keys():\n",
    "            count+=1\n",
    "            char_vocab[key] = count\n",
    "            \n",
    "    \n",
    "        char_vectorizer2 = TfidfVectorizer(analyzer = 'char',\n",
    "                ngram_range = ngram_range, max_features = max_features,\n",
    "                                vocabulary = char_vocab)\n",
    "        char_vectorizer2.fit(X_train)\n",
    "        print(char_vectorizer2.get_feature_names())\n",
    "        \n",
    "        train_chars = char_vectorizer2.transform(X_train)\n",
    "        test_chars = char_vectorizer2.transform(X_test)\n",
    "        pickle.dump(char_vectorizer2, open(\"tfidfcv2.pkl\", \"wb\"))\n",
    "        print(\"Character Vectorizer Saved\")\n",
    "        end = time.time()\n",
    "        print(\"Vectorizer Train Time: %d\" % (end-start))\n",
    "        \n",
    "    if load == True:\n",
    "        start = time.time()\n",
    "        print(\"Loading Character Vectorizer...\")\n",
    "        char_vectorizer = pickle.load(open(\"tfidfcv2.pkl\", 'rb'))\n",
    "        print(\"Character Vectorizer Loaded\")\n",
    "    \n",
    "        print(char_vectorizer.get_feature_names())\n",
    "        train_chars = char_vectorizer.transform(X_train)\n",
    "        test_chars = char_vectorizer.transform(X_test)\n",
    "        end = time.time()\n",
    "        print(\"Vectorizer Load Time: %d\" % (end-start))\n",
    "\n",
    "    dtrain = xgb.DMatrix(train_chars, label = y_train)\n",
    "    dtest = xgb.DMatrix(test_chars, label = y_test)\n",
    "    \n",
    "    \n",
    "    \n",
    "    return dtrain, dtest"
   ]
  },
  {
   "cell_type": "code",
   "execution_count": 41,
   "metadata": {},
   "outputs": [],
   "source": [
    "# Just vectorizes some test set\n",
    "\n",
    "def test_char_vectorizer(X_test):\n",
    "    start = time.time()\n",
    "    print(\"Loading Character Vectorizer...\")\n",
    "    char_vectorizer = pickle.load(open(\"tfidfcv2.pkl\", 'rb'))\n",
    "    print(\"Character Vectorizer Loaded\")\n",
    "    \n",
    "    test_chars = char_vectorizer.transform(X_test)\n",
    "    \n",
    "    dtest = xgb.DMatrix(test_chars)\n",
    "    end = time.time()\n",
    "    print(\"Vectorizer Load Time: %d\" % (end-start))\n",
    "    \n",
    "    return dtest"
   ]
  },
  {
   "cell_type": "code",
   "execution_count": 12,
   "metadata": {},
   "outputs": [],
   "source": [
    "# Splits our training data into parts by filetype\n",
    "\n",
    "def trainselector2(train_data, train_label, n_class):\n",
    "    labelmat = [[] for i in range(n_class)]\n",
    "    \n",
    "    for c in range(n_class):\n",
    "        t_labelloc = np.where(train_label == c)[0]\n",
    "        labelmat[c].extend(train_data[t_labelloc])\n",
    "    \n",
    "    return(labelmat)\n",
    "        "
   ]
  },
  {
   "cell_type": "code",
   "execution_count": 13,
   "metadata": {},
   "outputs": [],
   "source": [
    "# Trains XGB Classifier\n",
    "\n",
    "def TrainFileClassifier(param, num_round, test_dat, load, output):\n",
    "    if load == False:\n",
    "        start = time.time()\n",
    "        print(\"Training Model...\")\n",
    "        model = xgb.train(param, test_dat, num_round)\n",
    "        pickle.dump(model, open(\"xgb_class.pkl\", \"wb\"))\n",
    "        print(\"Model Saved\")\n",
    "        end = time.time()\n",
    "        print('Training time: %d' % (end-start))\n",
    "    if load == True:\n",
    "        print(\"Loading Model...\")\n",
    "        model = pickle.load(open(\"xgb_class.pkl\", \"rb\"))\n",
    "        print(\"Model Loaded\")\n",
    "        \n",
    "    return model\n",
    "    "
   ]
  },
  {
   "cell_type": "code",
   "execution_count": 150,
   "metadata": {},
   "outputs": [],
   "source": [
    "# Tests XGB Classifier\n",
    "\n",
    "def TestFileClassifier(model, data_test, filetype, y_test, output, threshold):\n",
    "    y_test = np.asarray(y_test)\n",
    "    y_test_copy = np.copy(y_test)\n",
    "    #print(len(y_test))\n",
    "    orig_len = len(y_test_copy)\n",
    "    start = time.time()\n",
    "    preds = model.predict(data_test)\n",
    "    end = time.time()\n",
    "    print('Testing time: %d' % (end-start))\n",
    "    best_preds = []\n",
    "    belowthresh = 0\n",
    "    below_ind = []\n",
    "    count = -1\n",
    "    for thperc in threshold:\n",
    "        for p in range(orig_len):\n",
    "            if np.max(preds[p]) < thperc:\n",
    "                belowthresh += 1\n",
    "                #below_ind.append(count)\n",
    "                #preds = np.delete(preds, p, 0)\n",
    "                y_test = np.delete(y_test, p, 0)\n",
    "                below_ind.append(p)\n",
    "                \n",
    "            else:\n",
    "                best_preds.append(np.argmax([preds[p]]))\n",
    "    #best_preds = np.asarray([np.argmax(line) for line in preds])\n",
    "    best_preds = np.array(best_preds)\n",
    "    new_preds = np.delete(preds, below_ind,0)\n",
    "    if output == True:\n",
    "        char_vectorizer = pickle.load(open(\"tfidfcv2.pkl\", 'rb'))\n",
    "        FeatureImportance(model, char_vectorizer.get_feature_names(), ['weight','cover','gain'])\n",
    "        print(\"Precision: {}\".format(precision_score(y_test, best_preds, average='macro')))\n",
    "        y_test_arr = np.asarray(y_test).reshape(1,-1).squeeze()\n",
    "        correct_rows = rowextraction(best_preds,y_test_arr)[0]\n",
    "        incorrect_rows = rowextraction(best_preds,y_test_arr)[1]\n",
    "        class_acc = classaccuracy(y_test_arr, preds, correct_rows, param['num_class'])\n",
    "        pred_uncertainty = uncertainty(preds, correct_rows, param['num_class'])\n",
    "        for i in range(param['num_class']):\n",
    "            print(\"Class {}\".format(filetype[i]) + \" mean and sd: {}\".format(pred_uncertainty[i])\n",
    "                 + \", Accuracy: {}\".format(round(class_acc[i],2)))\n",
    "        confusionmatrix(y_test_arr, best_preds, filetype)\n",
    "        skplt.metrics.plot_roc(y_test_arr, new_preds)\n",
    "        plt.show()\n",
    "    #print(belowthresh/len(best_preds))\n",
    "    #print(\"Incorrectly Predicted Rows: %d\" % preds[incorrect_rows])\n",
    "    #print(len(best_preds))\n",
    "    return best_preds"
   ]
  },
  {
   "cell_type": "code",
   "execution_count": 43,
   "metadata": {},
   "outputs": [],
   "source": [
    "dirs = ['/Users/bf/Desktop/BNL2020/BioClassifierFiles/genomic.fna',\n",
    "        '/Users/bf/Desktop/BNL2020/BioClassifierFiles/genomic.gbff',\n",
    "        '/Users/bf/Desktop/BNL2020/BioClassifierFiles/genomic.gff',\n",
    "        '/Users/bf/Desktop/BNL2020/BioClassifierFiles/FASTQ_truncated',\n",
    "        '/Users/bf/Desktop/BNL2020/BioClassifierFiles/SRA_truncated'\n",
    "       ]\n",
    "filetype = ['fna', 'gbff', 'gff', 'fastq', 'sra']\n",
    "data_iterable = trainloader(dirs, filetype, 3000)"
   ]
  },
  {
   "cell_type": "code",
   "execution_count": 44,
   "metadata": {},
   "outputs": [],
   "source": [
    "X_train, X_val, X_test, y_train, y_val, y_test = Data_Splitter(Dataset, ttsplit)"
   ]
  },
  {
   "cell_type": "code",
   "execution_count": 49,
   "metadata": {},
   "outputs": [],
   "source": [
    "param = {\n",
    "    'max_depth': 10,  # the maximum depth of each tree\n",
    "    'eta': 0.1,  # the training step for each iteration\n",
    "    'silent': 1,  # logging mode - quiet\n",
    "    'objective': 'multi:softprob',  # error evaluation for multiclass training\n",
    "    'num_class': len(filetype),  # the number of classes that exist in this datset\n",
    "    'booster' : 'dart', # Dropout added\n",
    "    'rate_drop' : 0.4, #Dropout Rate\n",
    "    'skip_drop' : 0.4 # Probability of skipping Dropout\n",
    "    } \n",
    "num_round = 40 # Number of rounds we train our XGB Classifier\n",
    "ngram_range = (4,8) # Character length we search by for Tfidf\n",
    "max_features = 12 # Vocab Words Per File Class\n",
    "Dataset = data_iterable\n",
    "ttsplit = 0.2  # Train/Test Split Percentage"
   ]
  },
  {
   "cell_type": "code",
   "execution_count": 50,
   "metadata": {},
   "outputs": [
    {
     "name": "stdout",
     "output_type": "stream",
     "text": [
      "Generating Character Vectorizer...\n",
      "['gaag', 'aaga', 'aatt', 'attt', 'agaa', 'gaaa', 'aaag', 'taaa', 'aaat', 'tttt', 'ttta', 'aaaa', 'tion', 'ion ', ' gen', 'geno', 'enom', 'atio', 'tion ', 'genom', 'enome', 'ation', 'genome', ' :: ', '=gen', 'gene', 'prot', 'rote', 'otei', 'tein', 'prote', 'rotei', 'otein', 'protei', 'rotein', 'protein', 'gggg', 'jjjj', 'ggggg', 'gggggg', 'ggggggg', 'gggggggg', 'eeee', '????', '?????', '??????', '???????', '????????', '\\x00\\x00\\x00\\x00', '\\x00\\x00\\x00$', '\\x00\\x00$\\x01', '$\\x01\\x00\\x00', '\\x00\\x00\\x00\\x00\\x00', '\\x00\\x00\\x00\\x00$', '\\x00\\x00$\\x01\\x00', '\\x00\\x00\\x00\\x00\\x00\\x00', '\\x00\\x00\\x00\\x00$\\x01', '\\x00\\x00\\x00\\x00$\\x01\\x00', '\\x00\\x00\\x00\\x00\\x00\\x00\\x00', '\\x00\\x00\\x00\\x00\\x00\\x00\\x00\\x00']\n",
      "Character Vectorizer Saved\n",
      "Vectorizer Train Time: 5\n"
     ]
    }
   ],
   "source": [
    "dat2_train, dat2_val = Char_vectorizer2(X_train, y_train, X_val, y_val, filetype, ngram_range, max_features, load = False)"
   ]
  },
  {
   "cell_type": "code",
   "execution_count": 105,
   "metadata": {},
   "outputs": [
    {
     "name": "stdout",
     "output_type": "stream",
     "text": [
      "Training Model...\n",
      "[23:47:23] WARNING: /Users/travis/build/dmlc/xgboost/src/learner.cc:480: \n",
      "Parameters: { silent } might not be used.\n",
      "\n",
      "  This may not be accurate due to some parameters are only used in language bindings but\n",
      "  passed down to XGBoost core.  Or some parameters are not used but slip through this\n",
      "  verification. Please open an issue if you find above cases.\n",
      "\n",
      "\n",
      "Model Saved\n",
      "Training time: 0\n"
     ]
    }
   ],
   "source": [
    "model2 = TrainFileClassifier(param, num_round, dat2_train, load = False, output = True)"
   ]
  },
  {
   "cell_type": "code",
   "execution_count": 151,
   "metadata": {
    "scrolled": false
   },
   "outputs": [
    {
     "name": "stdout",
     "output_type": "stream",
     "text": [
      "Testing time: 0\n",
      "Precision: 0.99\n",
      "Class fna mean and sd: [0.79791343, 0.13034803], Accuracy: 1.0\n",
      "Class gbff mean and sd: [0.87406826, 0.046503793], Accuracy: 1.0\n",
      "Class gff mean and sd: [0.84559196, 0.05889415], Accuracy: 1.0\n",
      "Class fastq mean and sd: [0.8382538, 0.097090386], Accuracy: 0.97\n",
      "Class sra mean and sd: [0.88822633, 0.00022864701], Accuracy: 1.0\n"
     ]
    },
    {
     "data": {
      "image/png": "[encoded data removed]",
      "text/plain": [
       "<Figure size 432x288 with 1 Axes>"
      ]
     },
     "metadata": {
      "needs_background": "light"
     },
     "output_type": "display_data"
    },
    {
     "data": {
      "image/png": "[encoded data removed]",
      "text/plain": [
       "<Figure size 432x288 with 1 Axes>"
      ]
     },
     "metadata": {
      "needs_background": "light"
     },
     "output_type": "display_data"
    },
    {
     "data": {
      "image/png": "[encoded data removed]",
      "text/plain": [
       "<Figure size 432x288 with 1 Axes>"
      ]
     },
     "metadata": {
      "needs_background": "light"
     },
     "output_type": "display_data"
    },
    {
     "data": {
      "image/png": "[encoded data removed]",
      "text/plain": [
       "<Figure size 432x288 with 2 Axes>"
      ]
     },
     "metadata": {
      "needs_background": "light"
     },
     "output_type": "display_data"
    },
    {
     "data": {
      "image/png": "[encoded data removed]",
      "text/plain": [
       "<Figure size 432x288 with 1 Axes>"
      ]
     },
     "metadata": {
      "needs_background": "light"
     },
     "output_type": "display_data"
    },
    {
     "data": {
      "text/plain": [
       "array([4, 4, 2, 1, 3, 4, 3, 1, 2, 4, 0, 1, 1, 3, 4, 1, 4, 1, 3, 3, 1, 2,\n",
       "       4, 4, 0, 4, 0, 3, 4, 4, 1, 1, 1, 1, 0, 0, 0, 4, 2, 3, 3, 1, 2, 4,\n",
       "       4, 1, 0, 4, 4, 1, 1, 3, 1, 0, 2, 3, 0, 3, 4, 3, 4, 3, 2, 2, 2, 2,\n",
       "       3, 0, 3, 1, 0, 2, 2, 4, 4, 3, 3, 4, 4, 3, 4, 1, 2, 0, 3, 3, 1, 2,\n",
       "       2, 0, 1, 2, 3, 3, 3, 3, 1, 2, 4, 2, 0, 3, 2, 4, 0, 3, 1, 4, 1, 3,\n",
       "       3, 1, 1, 4, 2, 0, 3, 0, 0, 3, 1, 2, 2, 1, 0, 0, 3, 1, 4, 3, 2, 2,\n",
       "       2, 3])"
      ]
     },
     "execution_count": 151,
     "metadata": {},
     "output_type": "execute_result"
    }
   ],
   "source": [
    "TestFileClassifier(model2, dat2_val,filetype, y_val, output = True, threshold = [0.0])"
   ]
  },
  {
   "cell_type": "code",
   "execution_count": 23,
   "metadata": {},
   "outputs": [],
   "source": [
    "sratest_data_iterable = trainloader(['/Users/bf/Desktop/BNL2020/BioClassifierFiles/TruncSra10000'], filetype, 3000)"
   ]
  },
  {
   "cell_type": "code",
   "execution_count": 152,
   "metadata": {},
   "outputs": [
    {
     "name": "stdout",
     "output_type": "stream",
     "text": [
      "Loading Character Vectorizer...\n",
      "Character Vectorizer Loaded\n",
      "Vectorizer Load Time: 64\n",
      "Testing time: 0\n",
      "Truncated 10000 SRA Accuracy: 1\n",
      "Number of Incorrectly Classified: 0\n"
     ]
    }
   ],
   "source": [
    "sradat_test = test_char_vectorizer(sratest_data_iterable.iloc[:,0])\n",
    "srapreds = TestFileClassifier(model2, sradat_test, filetype, y_val, output = False, threshold = [0.0])\n",
    "srapred_acc = 0\n",
    "incorrect = 0\n",
    "for preds in srapreds:\n",
    "    if preds == 4:\n",
    "        srapred_acc+=1\n",
    "    else:\n",
    "        incorrect+=1\n",
    "\n",
    "print(\"Truncated 10000 SRA Accuracy: %d\" % (srapred_acc/len(srapreds)))\n",
    "print(\"Number of Incorrectly Classified: %d\" % incorrect)"
   ]
  },
  {
   "cell_type": "code",
   "execution_count": null,
   "metadata": {},
   "outputs": [],
   "source": []
  }
 ],
 "metadata": {
  "kernelspec": {
   "display_name": "Python 3",
   "language": "python",
   "name": "python3"
  },
  "language_info": {
   "codemirror_mode": {
    "name": "ipython",
    "version": 3
   },
   "file_extension": ".py",
   "mimetype": "text/x-python",
   "name": "python",
   "nbconvert_exporter": "python",
   "pygments_lexer": "ipython3",
   "version": "3.7.1"
  }
 },
 "nbformat": 4,
 "nbformat_minor": 2
}
