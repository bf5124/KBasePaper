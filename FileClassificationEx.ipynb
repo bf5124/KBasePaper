{
 "cells": [
  {
   "cell_type": "code",
   "execution_count": 236,
   "metadata": {},
   "outputs": [],
   "source": [
    "import pandas as pd\n",
    "import numpy as np\n",
    "import sklearn\n",
    "from sklearn.model_selection import train_test_split\n",
    "from sklearn.feature_extraction.text import TfidfVectorizer\n",
    "import xgboost as xgb\n",
    "from sklearn.metrics import precision_score\n",
    "import os\n",
    "import gzip\n",
    "import random\n",
    "from matplotlib import pyplot as plt\n",
    "from sklearn.pipeline import make_pipeline\n",
    "import pickle\n",
    "import seaborn as sns\n",
    "from sklearn.metrics import confusion_matrix"
   ]
  },
  {
   "cell_type": "code",
   "execution_count": 4,
   "metadata": {},
   "outputs": [],
   "source": [
    "#Returns a string of length bytes long\n",
    "def dataloader(filepath, length):\n",
    "    f = gzip.GzipFile(fileobj=open(filepath, 'rb'))\n",
    "    data = f.read(length)\n",
    "    return data.decode(\"utf-8\")"
   ]
  },
  {
   "cell_type": "code",
   "execution_count": 5,
   "metadata": {},
   "outputs": [],
   "source": [
    "#Splits the data into num_chunks\n",
    "def chunk(in_string,num_chunks):\n",
    "    chunk_size = len(in_string)//num_chunks\n",
    "    if len(in_string) % num_chunks: chunk_size += 1\n",
    "    iterator = iter(in_string)\n",
    "    for _ in range(num_chunks):\n",
    "        accumulator = list()\n",
    "        for _ in range(chunk_size):\n",
    "            try: accumulator.append(next(iterator))\n",
    "            except StopIteration: break\n",
    "        yield ''.join(accumulator)"
   ]
  },
  {
   "cell_type": "code",
   "execution_count": 132,
   "metadata": {},
   "outputs": [],
   "source": [
    "#Returns dataframe of # of files long. Analyze the first length bytes of each file\n",
    "def trainloader(direclist, filetype, length):\n",
    "    fileid = np.arange(len(filetype))\n",
    "    dat = []\n",
    "    filelabels = []\n",
    "    c = -1\n",
    "    for direc in direclist:\n",
    "        c+=1\n",
    "        filelabels.append(np.repeat(fileid[c],len(os.listdir(direc))-1))\n",
    "        for file in os.listdir(direc):\n",
    "            if file.endswith('.gz'):\n",
    "                tempdat = dataloader(os.path.join(direc,file),length)\n",
    "                dat = dat + [tempdat]\n",
    "    filelabels = np.concatenate(filelabels)\n",
    "    data = {'Data': dat,\n",
    "        'Type': filelabels\n",
    "    }\n",
    "    df = pd.DataFrame(data, columns = ['Data', 'Type'])\n",
    "    #print(df.head())\n",
    "    return(df)"
   ]
  },
  {
   "cell_type": "code",
   "execution_count": 163,
   "metadata": {},
   "outputs": [],
   "source": [
    "def rowextraction(predicted, truth):\n",
    "    return(np.where(predicted==truth)[0])"
   ]
  },
  {
   "cell_type": "code",
   "execution_count": 209,
   "metadata": {},
   "outputs": [],
   "source": [
    "def uncertainty(pred, row_ind, num_classes):\n",
    "    class_arr = [[] for i in range(num_classes)]\n",
    "    dist_arr = []\n",
    "    for ind in row_ind:\n",
    "        class_ind = np.argmax(pred[ind])\n",
    "        class_arr[class_ind].append(np.max(pred[ind]))\n",
    "    for arr in class_arr:\n",
    "        dist_arr.append([np.mean(arr),np.std(arr)])\n",
    "    return(dist_arr)"
   ]
  },
  {
   "cell_type": "code",
   "execution_count": 7,
   "metadata": {},
   "outputs": [],
   "source": [
    "def FeatureImportance(model, features, importance):\n",
    "    for im in importance:\n",
    "        feature_important = model.get_score(importance_type = im)\n",
    "        keys = list(feature_important.keys())\n",
    "        feature_chars = []\n",
    "        keylist = []\n",
    "        for key in keys:\n",
    "            keylist.append(int(key.replace('f','')))\n",
    "        for i in keylist:\n",
    "            feature_chars.append(features[i])\n",
    "        values = list(feature_important.values())\n",
    "        fdata = pd.DataFrame(data=values, index=feature_chars, columns=[\"score\"]).sort_values(by = \"score\", ascending=False)\n",
    "        fdata.plot(kind='barh', title = im)    \n",
    "        \n",
    "    "
   ]
  },
  {
   "cell_type": "code",
   "execution_count": 238,
   "metadata": {},
   "outputs": [],
   "source": [
    "def confusionmatrix(truth, pred, names):\n",
    "    cm = confusion_matrix(truth, pred)\n",
    "    plt.figure()\n",
    "    plt.imshow(cm, interpolation=\"nearest\", cmap=plt.cm.Blues)\n",
    "    plt.colorbar()\n",
    "    tick_marks = np.arange(len(names))\n",
    "    plt.xticks(tick_marks, names, rotation=45)\n",
    "    plt.yticks(tick_marks, names)\n",
    "    plt.xlabel(\"Predicted Class\")\n",
    "    plt.ylabel(\"True Class\")\n",
    "    plt.show()"
   ]
  },
  {
   "cell_type": "code",
   "execution_count": 220,
   "metadata": {},
   "outputs": [],
   "source": [
    "def classaccuracy(truth, pred, ind, num_classes):\n",
    "    classes = np.arange(num_classes)\n",
    "    predcl = np.asarray([np.argmax(pred[i]) for i in ind])\n",
    "    acc = []\n",
    "    for cl in classes:\n",
    "        truth_len = len(np.where(truth == cl)[0])\n",
    "        pred_len = len(np.where(predcl == cl)[0])\n",
    "        acc.append(pred_len/truth_len)\n",
    "    return(acc)"
   ]
  },
  {
   "cell_type": "code",
   "execution_count": 234,
   "metadata": {},
   "outputs": [],
   "source": [
    "def FileClassifier(Dataset, filetype, ngram_range, max_features, param, num_round, load):\n",
    "    \n",
    "    X = Dataset.iloc[:,0]\n",
    "    y = Dataset.iloc[:,1]\n",
    "\n",
    "    X_train, X_test, y_train, y_test = train_test_split(X, y, test_size=0.2, random_state = 42)\n",
    "    if load == False:\n",
    "        print(\"Generating Character Vectorizer...\")\n",
    "        char_vectorizer = TfidfVectorizer(analyzer = 'char',\n",
    "            ngram_range = ngram_range, max_features = max_features)\n",
    "        char_vectorizer.fit(X_train)\n",
    "        train_chars = char_vectorizer.fit_transform(X_train)\n",
    "        test_chars = char_vectorizer.fit_transform(X_test)\n",
    "        pickle.dump(char_vectorizer, open(\"tfidfcv.pkl\", \"wb\"))\n",
    "        print(\"Character Vectorizer Saved\")\n",
    "    #train_chars = char_vectorizer.transform(X_train)\n",
    "    if load == True:\n",
    "        print(\"Loading Character Vectorizer...\")\n",
    "        cv1 = pickle.load(open(\"tfidfcv.pkl\", 'rb'))\n",
    "        print(\"Character Vectorizer Loaded\")\n",
    "        char_vectorizer = TfidfVectorizer(analyzer = 'char',\n",
    "            ngram_range = ngram_range, max_features = max_features, vocabulary = cv1.vocabulary)\n",
    "        train_chars = char_vectorizer.fit_transform(X_train)\n",
    "        test_chars = char_vectorizer.fit_transform(X_test)\n",
    "\n",
    "    \n",
    "    dtrain = xgb.DMatrix(train_chars, label = y_train)\n",
    "    dtest = xgb.DMatrix(test_chars, label = y_test)\n",
    "    \n",
    "    if load == False:\n",
    "        print(\"Training Model...\")\n",
    "        model = xgb.train(param, dtrain, num_round)\n",
    "        pickle.dump(model, open(\"xgb_class.pkl\", \"wb\"))\n",
    "        print(\"Model Saved\")\n",
    "    if load == True:\n",
    "        print(\"Loading Model...\")\n",
    "        model = pickle.load(open(\"xgb_class.pkl\", \"rb\"))\n",
    "        print(\"Model Loaded\")\n",
    "    \n",
    "    FeatureImportance(model, char_vectorizer.get_feature_names(), ['weight','cover','gain'])\n",
    "    \n",
    "    preds = model.predict(dtest)\n",
    "    best_preds = np.asarray([np.argmax(line) for line in preds])\n",
    "    print(\"Precision: {}\".format(precision_score(y_test, best_preds, average='macro')))\n",
    "    y_test_arr = np.asarray(y_test).reshape(1,-1).squeeze()\n",
    "    correct_rows = rowextraction(best_preds,y_test_arr)\n",
    "    class_acc = classaccuracy(y_test_arr, preds, correct_rows, param['num_class'])\n",
    "    pred_uncertainty = uncertainty(preds, correct_rows, param['num_class'])\n",
    "    for i in range(param['num_class']):\n",
    "        print(\"Class {}\".format(filetype[i]) + \" mean and sd: {}\".format(pred_uncertainty[i])\n",
    "             + \", Accuracy: {}\".format(round(class_acc[i],2)))\n",
    "    confusionmatrix(y_test_arr, best_preds, filetype)\n",
    "    \n",
    "    \n",
    "    \n",
    "    return(model)"
   ]
  },
  {
   "cell_type": "code",
   "execution_count": 146,
   "metadata": {},
   "outputs": [],
   "source": [
    "dirs = ['/Users/bf/Desktop/BNL2020/BioClassifierFiles/genomic.fna',\n",
    "        '/Users/bf/Desktop/BNL2020/BioClassifierFiles/genomic.gbff',\n",
    "        '/Users/bf/Desktop/BNL2020/BioClassifierFiles/genomic.gff',\n",
    "       ]\n",
    "filetype = ['fna', 'gbff', 'gff']"
   ]
  },
  {
   "cell_type": "code",
   "execution_count": 150,
   "metadata": {},
   "outputs": [],
   "source": [
    "data_iterable = trainloader(dirs, filetype, 1500)"
   ]
  },
  {
   "cell_type": "code",
   "execution_count": 153,
   "metadata": {},
   "outputs": [],
   "source": [
    "param = {\n",
    "    'max_depth': 8,  # the maximum depth of each tree\n",
    "    'eta': 0.1,  # the training step for each iteration\n",
    "    'silent': 1,  # logging mode - quiet\n",
    "    'objective': 'multi:softprob',  # error evaluation for multiclass training\n",
    "    'num_class': 3}  # the number of classes that exist in this datset\n",
    "num_round = 60 \n",
    "ngram_range = (3,18)\n",
    "max_features = 100000\n",
    "Dataset = data_iterable\n",
    "load = True"
   ]
  },
  {
   "cell_type": "code",
   "execution_count": 239,
   "metadata": {},
   "outputs": [
    {
     "name": "stdout",
     "output_type": "stream",
     "text": [
      "Loading Character Vectorizer...\n",
      "Character Vectorizer Loaded\n",
      "Loading Model...\n",
      "Model Loaded\n",
      "Precision: 0.8048780487804877\n",
      "Class fna mean and sd: [0.3423101, 0.0], Accuracy: 1.0\n",
      "Class gbff mean and sd: [0.33499992, 0.0], Accuracy: 0.08\n",
      "Class gff mean and sd: [0.99323344, 1.7881393e-07], Accuracy: 0.88\n"
     ]
    },
    {
     "data": {
      "image/png": "[encoded data removed]",
      "text/plain": [
       "<Figure size 432x288 with 1 Axes>"
      ]
     },
     "metadata": {
      "needs_background": "light"
     },
     "output_type": "display_data"
    },
    {
     "data": {
      "image/png": "[encoded data removed]",
      "text/plain": [
       "<Figure size 432x288 with 1 Axes>"
      ]
     },
     "metadata": {
      "needs_background": "light"
     },
     "output_type": "display_data"
    },
    {
     "data": {
      "image/png": "[encoded data removed]",
      "text/plain": [
       "<Figure size 432x288 with 1 Axes>"
      ]
     },
     "metadata": {
      "needs_background": "light"
     },
     "output_type": "display_data"
    },
    {
     "data": {
      "image/png": "[encoded data removed]",
      "text/plain": [
       "<Figure size 432x288 with 2 Axes>"
      ]
     },
     "metadata": {
      "needs_background": "light"
     },
     "output_type": "display_data"
    }
   ],
   "source": [
    "xgbmodel = FileClassifier(Dataset, filetype, ngram_range, max_features, param, num_round, load)"
   ]
  },
  {
   "cell_type": "code",
   "execution_count": null,
   "metadata": {},
   "outputs": [],
   "source": []
  }
 ],
 "metadata": {
  "kernelspec": {
   "display_name": "Python 3",
   "language": "python",
   "name": "python3"
  },
  "language_info": {
   "codemirror_mode": {
    "name": "ipython",
    "version": 3
   },
   "file_extension": ".py",
   "mimetype": "text/x-python",
   "name": "python",
   "nbconvert_exporter": "python",
   "pygments_lexer": "ipython3",
   "version": "3.7.1"
  }
 },
 "nbformat": 4,
 "nbformat_minor": 2
}
