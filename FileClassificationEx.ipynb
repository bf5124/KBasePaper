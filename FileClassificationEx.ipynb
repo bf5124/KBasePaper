{
 "cells": [
  {
   "cell_type": "code",
   "execution_count": 542,
   "metadata": {},
   "outputs": [],
   "source": [
    "import pandas as pd\n",
    "import numpy as np\n",
    "import sklearn\n",
    "from sklearn.model_selection import train_test_split\n",
    "from sklearn.feature_extraction.text import TfidfVectorizer\n",
    "from sklearn.pipeline import FeatureUnion\n",
    "import re\n",
    "import xgboost as xgb\n",
    "from sklearn.metrics import precision_score\n",
    "import os\n",
    "import gzip\n",
    "import random\n",
    "from matplotlib import pyplot as plt\n",
    "from sklearn.pipeline import make_pipeline\n",
    "import pickle\n",
    "import seaborn as sns\n",
    "from sklearn.metrics import confusion_matrix"
   ]
  },
  {
   "cell_type": "code",
   "execution_count": 4,
   "metadata": {},
   "outputs": [],
   "source": [
    "#Returns a string of length bytes long\n",
    "def dataloader(filepath, length):\n",
    "    f = gzip.GzipFile(fileobj=open(filepath, 'rb'))\n",
    "    data = f.read(length)\n",
    "    return data.decode(\"utf-8\")"
   ]
  },
  {
   "cell_type": "code",
   "execution_count": 5,
   "metadata": {},
   "outputs": [],
   "source": [
    "#Splits the data into num_chunks\n",
    "def chunk(in_string,num_chunks):\n",
    "    chunk_size = len(in_string)//num_chunks\n",
    "    if len(in_string) % num_chunks: chunk_size += 1\n",
    "    iterator = iter(in_string)\n",
    "    for _ in range(num_chunks):\n",
    "        accumulator = list()\n",
    "        for _ in range(chunk_size):\n",
    "            try: accumulator.append(next(iterator))\n",
    "            except StopIteration: break\n",
    "        yield ''.join(accumulator)"
   ]
  },
  {
   "cell_type": "code",
   "execution_count": 132,
   "metadata": {},
   "outputs": [],
   "source": [
    "#Returns dataframe of # of files long. Analyze the first length bytes of each file\n",
    "def trainloader(direclist, filetype, length):\n",
    "    fileid = np.arange(len(filetype))\n",
    "    dat = []\n",
    "    filelabels = []\n",
    "    c = -1\n",
    "    for direc in direclist:\n",
    "        c+=1\n",
    "        filelabels.append(np.repeat(fileid[c],len(os.listdir(direc))-1))\n",
    "        for file in os.listdir(direc):\n",
    "            if file.endswith('.gz'):\n",
    "                tempdat = dataloader(os.path.join(direc,file),length)\n",
    "                dat = dat + [tempdat]\n",
    "    filelabels = np.concatenate(filelabels)\n",
    "    data = {'Data': dat,\n",
    "        'Type': filelabels\n",
    "    }\n",
    "    df = pd.DataFrame(data, columns = ['Data', 'Type'])\n",
    "    #print(df.head())\n",
    "    return(df)"
   ]
  },
  {
   "cell_type": "code",
   "execution_count": 163,
   "metadata": {},
   "outputs": [],
   "source": [
    "def rowextraction(predicted, truth):\n",
    "    return(np.where(predicted==truth)[0])"
   ]
  },
  {
   "cell_type": "code",
   "execution_count": 209,
   "metadata": {},
   "outputs": [],
   "source": [
    "def uncertainty(pred, row_ind, num_classes):\n",
    "    class_arr = [[] for i in range(num_classes)]\n",
    "    dist_arr = []\n",
    "    for ind in row_ind:\n",
    "        class_ind = np.argmax(pred[ind])\n",
    "        class_arr[class_ind].append(np.max(pred[ind]))\n",
    "    for arr in class_arr:\n",
    "        dist_arr.append([np.mean(arr),np.std(arr)])\n",
    "    return(dist_arr)"
   ]
  },
  {
   "cell_type": "code",
   "execution_count": 7,
   "metadata": {},
   "outputs": [],
   "source": [
    "def FeatureImportance(model, features, importance):\n",
    "    for im in importance:\n",
    "        feature_important = model.get_score(importance_type = im)\n",
    "        keys = list(feature_important.keys())\n",
    "        feature_chars = []\n",
    "        keylist = []\n",
    "        for key in keys:\n",
    "            keylist.append(int(key.replace('f','')))\n",
    "        for i in keylist:\n",
    "            feature_chars.append(features[i])\n",
    "        values = list(feature_important.values())\n",
    "        fdata = pd.DataFrame(data=values, index=feature_chars, columns=[\"score\"]).sort_values(by = \"score\", ascending=False)\n",
    "        fdata.plot(kind='barh', title = im)    \n",
    "        \n",
    "    "
   ]
  },
  {
   "cell_type": "code",
   "execution_count": 238,
   "metadata": {},
   "outputs": [],
   "source": [
    "def confusionmatrix(truth, pred, names):\n",
    "    cm = confusion_matrix(truth, pred)\n",
    "    plt.figure()\n",
    "    plt.imshow(cm, interpolation=\"nearest\", cmap=plt.cm.Blues)\n",
    "    plt.colorbar()\n",
    "    tick_marks = np.arange(len(names))\n",
    "    plt.xticks(tick_marks, names, rotation=45)\n",
    "    plt.yticks(tick_marks, names)\n",
    "    plt.xlabel(\"Predicted Class\")\n",
    "    plt.ylabel(\"True Class\")\n",
    "    plt.show()"
   ]
  },
  {
   "cell_type": "code",
   "execution_count": 220,
   "metadata": {},
   "outputs": [],
   "source": [
    "def classaccuracy(truth, pred, ind, num_classes):\n",
    "    classes = np.arange(num_classes)\n",
    "    predcl = np.asarray([np.argmax(pred[i]) for i in ind])\n",
    "    acc = []\n",
    "    for cl in classes:\n",
    "        truth_len = len(np.where(truth == cl)[0])\n",
    "        pred_len = len(np.where(predcl == cl)[0])\n",
    "        acc.append(pred_len/truth_len)\n",
    "    return(acc)"
   ]
  },
  {
   "cell_type": "code",
   "execution_count": 587,
   "metadata": {},
   "outputs": [],
   "source": [
    "def trainselector(train_data, train_label, n_class, split):\n",
    "    labelmat = [[] for i in range(n_class)]\n",
    "    splitnum = []\n",
    "    datmat = []\n",
    "    \n",
    "    total_len = len(train_data)\n",
    "    for s in split:\n",
    "        nchoice = int(total_len*s)\n",
    "        splitnum.append(nchoice)\n",
    "    \n",
    "    for c in range(n_class):\n",
    "        t_labelloc = np.where(train_label == c)[0]\n",
    "        #print(t_labelloc)\n",
    "        #print(len(train_data[t_labelloc]))\n",
    "        labelmat[c].extend(train_data[t_labelloc])\n",
    "   \n",
    "    for n in range(len(splitnum)):\n",
    "        datmat.extend(np.random.choice(labelmat[n],splitnum[n]))\n",
    "    \n",
    "    \n",
    "    return(datmat)\n",
    "        "
   ]
  },
  {
   "cell_type": "code",
   "execution_count": 599,
   "metadata": {},
   "outputs": [],
   "source": [
    "def FileClassifier(Dataset, ttsplit, filetype, fit_split, ngram_range, max_features, param, num_round, load):\n",
    "    \n",
    "    X = Dataset.iloc[:,0]\n",
    "    y = Dataset.iloc[:,1]\n",
    "    \n",
    "    X_train, X_test, y_train, y_test = train_test_split(X, y, test_size=ttsplit, random_state = 42)\n",
    "    fitset = trainselector(np.array(X_train), np.array(y_train), len(filetype), fit_split)\n",
    "    \n",
    "    if load == False:\n",
    "        print(\"Generating Character Vectorizer...\")\n",
    "        TfidfVectorizer.partial_fit = partial_fit\n",
    "        char_vectorizer = TfidfVectorizer(analyzer = 'char',\n",
    "            ngram_range = ngram_range, max_features = max_features)\n",
    "        char_vectorizer.fit(fitset)\n",
    "        print(char_vectorizer.vocabulary_)\n",
    "        print(char_vectorizer.get_feature_names())\n",
    "        train_chars = char_vectorizer.transform(X_train)\n",
    "        test_chars = char_vectorizer.transform(X_test)\n",
    "        pickle.dump(char_vectorizer, open(\"tfidfcv.pkl\", \"wb\"))\n",
    "        print(\"Character Vectorizer Saved\")\n",
    "        \n",
    "    if load == True:\n",
    "        print(\"Loading Character Vectorizer...\")\n",
    "        char_vectorizer = pickle.load(open(\"tfidfcv.pkl\", 'rb'))\n",
    "        print(\"Character Vectorizer Loaded\")\n",
    "        print(char_vectorizer.vocabulary_)\n",
    "        print(char_vectorizer.get_feature_names())\n",
    "        train_chars = char_vectorizer.transform(X_train)\n",
    "        test_chars = char_vectorizer.transform(X_test)\n",
    "\n",
    "    dtrain = xgb.DMatrix(train_chars, label = y_train)\n",
    "    dtest = xgb.DMatrix(test_chars, label = y_test)\n",
    "    \n",
    "    if load == False:\n",
    "        print(\"Training Model...\")\n",
    "        model = xgb.train(param, dtrain, num_round)\n",
    "        pickle.dump(model, open(\"xgb_class.pkl\", \"wb\"))\n",
    "        print(\"Model Saved\")\n",
    "    if load == True:\n",
    "        print(\"Loading Model...\")\n",
    "        model = pickle.load(open(\"xgb_class.pkl\", \"rb\"))\n",
    "        print(\"Model Loaded\")\n",
    "        \n",
    "    FeatureImportance(model, char_vectorizer.get_feature_names(), ['weight','cover','gain'])\n",
    "    \n",
    "    \n",
    "    preds = model.predict(dtest)\n",
    "    best_preds = np.asarray([np.argmax(line) for line in preds])\n",
    "    print(\"Precision: {}\".format(precision_score(y_test, best_preds, average='macro')))\n",
    "    y_test_arr = np.asarray(y_test).reshape(1,-1).squeeze()\n",
    "    correct_rows = rowextraction(best_preds,y_test_arr)\n",
    "    class_acc = classaccuracy(y_test_arr, preds, correct_rows, param['num_class'])\n",
    "    pred_uncertainty = uncertainty(preds, correct_rows, param['num_class'])\n",
    "    for i in range(param['num_class']):\n",
    "        print(\"Class {}\".format(filetype[i]) + \" mean and sd: {}\".format(pred_uncertainty[i])\n",
    "             + \", Accuracy: {}\".format(round(class_acc[i],2)))\n",
    "    confusionmatrix(y_test_arr, best_preds, filetype)\n",
    "    \n",
    "    \n",
    "    \n",
    "    return(model)"
   ]
  },
  {
   "cell_type": "code",
   "execution_count": 589,
   "metadata": {},
   "outputs": [],
   "source": [
    "dirs = ['/Users/bf/Desktop/BNL2020/BioClassifierFiles/genomic.fna',\n",
    "        '/Users/bf/Desktop/BNL2020/BioClassifierFiles/genomic.gbff',\n",
    "        '/Users/bf/Desktop/BNL2020/BioClassifierFiles/genomic.gff',\n",
    "       ]\n",
    "filetype = ['fna', 'gbff', 'gff']\n",
    "data_iterable = trainloader(dirs, filetype, 3000)"
   ]
  },
  {
   "cell_type": "code",
   "execution_count": 471,
   "metadata": {},
   "outputs": [
    {
     "data": {
      "text/plain": [
       "'##gff-version 3\\n#!gff-spec-version 1.21\\n#!processor NCBI annotwriter\\n#!genome-build ASM382199v1\\n#!genome-build-accession NCBI_Assembly:GCA_003821995.1\\n##sequence-region MG945408.1 1 6522\\n##species https://www.ncbi.nlm.nih.gov/Taxonomy/Browser/wwwtax.cgi?id=2202644\\nMG945408.1\\tGenbank\\tregion\\t1\\t6522\\t.\\t+\\t.\\tID=MG945408.1:1..6522;Dbxref=taxon:2202644;Is_circular=true;collection-date=2015;country=China;gbkey=Src;genome=genomic;isolate=4061-1801;isolation-source=pig feces;mol_type=genomic DNA\\nMG945408.1\\tGenbank\\tsequence_feature\\t1\\t1161\\t.\\t+\\t.\\tID=id-MG945408.1:1..1161;Note=similar to VP4;gbkey=misc_feature\\nMG945408.1\\tGenbank\\tsequence_feature\\t1043\\t1513\\t.\\t+\\t.\\tID=id-MG945408.1:1043..1513;Note=similar to hypothetical protein;gbkey=misc_feature\\nMG945408.1\\tGenbank\\tsequence_feature\\t1955\\t2296\\t.\\t+\\t.\\tID=id-MG945408.1:1955..2296;Note=similar to hypothetical protein;gbkey=misc_feature\\nMG945408.1\\tGenbank\\tsequence_feature\\t2299\\t4443\\t.\\t+\\t.\\tID=id-MG945408.1:2299..4443;Note=similar to VP1;gbkey=misc_feature\\nMG945408.1\\tGenbank\\tsequence_feature\\t4446\\t4727\\t.\\t+\\t.\\tID=id-MG945408.1:4446..4727;Note=similar to hypothetical protein;gbkey=misc_feature\\nMG945408.1\\tGenbank\\tsequence_feature\\t4730\\t5350\\t.\\t+\\t.\\tID=id-MG945408.1:4730..5350;Note=similar to VP2;gbkey=misc_feature\\nMG945408.1\\tGenbank\\tsequence_feature\\t5629\\t6492\\t.\\t+\\t.\\tID=id-MG945408.1:5629..6492;Note=similar to hypothetical protein;gbkey=misc_feature\\n###\\n'"
      ]
     },
     "execution_count": 471,
     "metadata": {},
     "output_type": "execute_result"
    }
   ],
   "source": [
    "data_iterable.iloc[207,0]"
   ]
  },
  {
   "cell_type": "code",
   "execution_count": 600,
   "metadata": {},
   "outputs": [],
   "source": [
    "param = {\n",
    "    'max_depth': 10,  # the maximum depth of each tree\n",
    "    'eta': 0.1,  # the training step for each iteration\n",
    "    'silent': 1,  # logging mode - quiet\n",
    "    'objective': 'multi:softprob',  # error evaluation for multiclass training\n",
    "    'num_class': len(filetype)}  # the number of classes that exist in this datset\n",
    "num_round = 40 \n",
    "ngram_range = (4,20)\n",
    "max_features = 30\n",
    "fit_split = [0.22, 0.39, 0.39]\n",
    "Dataset = data_iterable\n",
    "ttsplit = 0.25\n",
    "load = True"
   ]
  },
  {
   "cell_type": "code",
   "execution_count": 601,
   "metadata": {
    "scrolled": false
   },
   "outputs": [
    {
     "name": "stdout",
     "output_type": "stream",
     "text": [
      "Loading Character Vectorizer...\n",
      "Character Vectorizer Loaded\n",
      "{'aaga': 6, 'agaa': 9, 'gaag': 13, 'gaaa': 12, 'caaa': 11, 'aaaa': 3, 'aaat': 5, 'tgaa': 27, 'aatt': 7, 'attt': 10, 'tttt': 29, 'ttta': 28, 'acaa': 8, 'aaag': 4, 'taaa': 25, 'gene': 14, 'prot': 18, 'rote': 22, 'otei': 16, 'tein': 26, 'prote': 19, 'rotei': 23, 'otein': 17, 'protei': 20, 'rotein': 24, 'protein': 21, 'ion ': 15, '\\tgen': 0, '=cds': 2, ';pro': 1}\n",
      "['\\tgen', ';pro', '=cds', 'aaaa', 'aaag', 'aaat', 'aaga', 'aatt', 'acaa', 'agaa', 'attt', 'caaa', 'gaaa', 'gaag', 'gene', 'ion ', 'otei', 'otein', 'prot', 'prote', 'protei', 'protein', 'rote', 'rotei', 'rotein', 'taaa', 'tein', 'tgaa', 'ttta', 'tttt']\n",
      "Loading Model...\n",
      "Model Loaded\n",
      "Precision: 0.9876543209876543\n",
      "Class fna mean and sd: [0.9659124, 0.035246503], Accuracy: 1.0\n",
      "Class gbff mean and sd: [0.97711533, 0.0011317126], Accuracy: 1.0\n",
      "Class gff mean and sd: [0.9752959, 0.0028224555], Accuracy: 0.95\n"
     ]
    },
    {
     "data": {
      "image/png": "[encoded data removed]",
      "text/plain": [
       "<Figure size 432x288 with 1 Axes>"
      ]
     },
     "metadata": {
      "needs_background": "light"
     },
     "output_type": "display_data"
    },
    {
     "data": {
      "image/png": "[encoded data removed]",
      "text/plain": [
       "<Figure size 432x288 with 1 Axes>"
      ]
     },
     "metadata": {
      "needs_background": "light"
     },
     "output_type": "display_data"
    },
    {
     "data": {
      "image/png": "[encoded data removed]",
      "text/plain": [
       "<Figure size 432x288 with 1 Axes>"
      ]
     },
     "metadata": {
      "needs_background": "light"
     },
     "output_type": "display_data"
    },
    {
     "data": {
      "image/png": "[encoded data removed]",
      "text/plain": [
       "<Figure size 432x288 with 2 Axes>"
      ]
     },
     "metadata": {
      "needs_background": "light"
     },
     "output_type": "display_data"
    }
   ],
   "source": [
    "xgbmodel = FileClassifier(Dataset, ttsplit, filetype, fit_split, ngram_range, max_features, param, num_round, load)"
   ]
  },
  {
   "cell_type": "code",
   "execution_count": null,
   "metadata": {},
   "outputs": [],
   "source": []
  }
 ],
 "metadata": {
  "kernelspec": {
   "display_name": "Python 3",
   "language": "python",
   "name": "python3"
  },
  "language_info": {
   "codemirror_mode": {
    "name": "ipython",
    "version": 3
   },
   "file_extension": ".py",
   "mimetype": "text/x-python",
   "name": "python",
   "nbconvert_exporter": "python",
   "pygments_lexer": "ipython3",
   "version": "3.7.1"
  }
 },
 "nbformat": 4,
 "nbformat_minor": 2
}
