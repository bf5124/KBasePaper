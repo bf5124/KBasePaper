{
 "cells": [
  {
   "cell_type": "code",
   "execution_count": 1,
   "metadata": {},
   "outputs": [
    {
     "name": "stderr",
     "output_type": "stream",
     "text": [
      "/anaconda3/lib/python3.7/site-packages/dask/dataframe/utils.py:13: FutureWarning: pandas.util.testing is deprecated. Use the functions in the public API at pandas.testing instead.\n",
      "  import pandas.util.testing as tm\n"
     ]
    }
   ],
   "source": [
    "import pandas as pd\n",
    "import numpy as np\n",
    "import sklearn\n",
    "from sklearn.model_selection import train_test_split\n",
    "from sklearn.feature_extraction.text import TfidfVectorizer\n",
    "from sklearn.pipeline import FeatureUnion\n",
    "import re\n",
    "import xgboost as xgb\n",
    "from sklearn.metrics import precision_score\n",
    "import os\n",
    "import gzip\n",
    "import random\n",
    "from matplotlib import pyplot as plt\n",
    "from sklearn.pipeline import make_pipeline\n",
    "import pickle\n",
    "import seaborn as sns\n",
    "from sklearn.metrics import confusion_matrix\n",
    "import scikitplot as skplt\n",
    "import time"
   ]
  },
  {
   "cell_type": "code",
   "execution_count": 2,
   "metadata": {},
   "outputs": [],
   "source": [
    "#Returns a string of length bytes long\n",
    "\n",
    "def dataloader(filepath, length):\n",
    "    f = gzip.GzipFile(fileobj=open(filepath, 'rb'))\n",
    "    data = f.read(length)\n",
    "    return data.decode(\"utf-8\")"
   ]
  },
  {
   "cell_type": "code",
   "execution_count": 165,
   "metadata": {},
   "outputs": [],
   "source": [
    "#Returns dataframe of # of files long. Analyze the first length bytes of each file\n",
    "\n",
    "def trainloader(direclist, filetype, length):\n",
    "    fileid = np.arange(len(filetype))\n",
    "    dat = []\n",
    "    filelabels = []\n",
    "    c = -1\n",
    "    for direc in direclist:\n",
    "        c+=1\n",
    "        for file in os.listdir(direc):\n",
    "            if file.endswith('fna.gz'):\n",
    "                tempdat = dataloader(os.path.join(direc,file),length)\n",
    "                dat = dat + [tempdat]\n",
    "                filelabels.append(0)\n",
    "            if file.endswith('fna.trunc'):\n",
    "                tfile = open(os.path.join(direc,file), 'rb')\n",
    "                tempdat = tfile.read(length).decode(\"utf-8\")\n",
    "                dat = dat + [tempdat]\n",
    "                filelabels.append(0)\n",
    "                \n",
    "            if file.endswith('gbff.gz'):\n",
    "                tempdat = dataloader(os.path.join(direc,file),length)\n",
    "                dat = dat + [tempdat]\n",
    "                filelabels.append(1)\n",
    "            if file.endswith('gbff.trunc'):\n",
    "                tfile = open(os.path.join(direc,file), 'rb')\n",
    "                tempdat = tfile.read(length).decode(\"utf-8\")\n",
    "                dat = dat + [tempdat]\n",
    "                filelabels.append(1)\n",
    "                \n",
    "            if file.endswith('gff.gz'):\n",
    "                tempdat = dataloader(os.path.join(direc,file),length)\n",
    "                dat = dat + [tempdat]\n",
    "                filelabels.append(2)\n",
    "            if file.endswith('gff.trunc'):\n",
    "                tfile = open(os.path.join(direc,file), 'rb')\n",
    "                tempdat = tfile.read(length).decode(\"utf-8\")\n",
    "                dat = dat + [tempdat]\n",
    "                filelabels.append(2)\n",
    "                \n",
    "            if file.endswith('fastq.truncated'):\n",
    "                tfile = open(os.path.join(direc,file), 'rb')\n",
    "                tempdat = tfile.read(length).decode(\"utf-8\")\n",
    "                dat = dat + [tempdat]\n",
    "                filelabels.append(3)\n",
    "            if file.endswith('sra.truncated'):\n",
    "                tfile = open(os.path.join(direc,file), 'rb')\n",
    "                tempdat = tfile.read(length).decode(\"ISO-8859-1\")\n",
    "                dat = dat + [tempdat]\n",
    "                filelabels.append(4)\n",
    "                \n",
    "    data = {'Data': dat,\n",
    "        'Type': filelabels\n",
    "    }\n",
    "    df = pd.DataFrame(data, columns = ['Data', 'Type'])\n",
    "    return(df)"
   ]
  },
  {
   "cell_type": "code",
   "execution_count": 4,
   "metadata": {},
   "outputs": [],
   "source": [
    "# Returns rows of correctly classified features\n",
    "\n",
    "def rowextraction(predicted, truth):\n",
    "    return([np.where(predicted==truth)[0], np.where(predicted!=truth)[0]])"
   ]
  },
  {
   "cell_type": "code",
   "execution_count": 5,
   "metadata": {},
   "outputs": [],
   "source": [
    "# Returns distribution of probability of class being correct for correctly classified features\n",
    "\n",
    "def uncertainty(pred, row_ind, num_classes):\n",
    "    class_arr = [[] for i in range(num_classes)]\n",
    "    dist_arr = []\n",
    "    for ind in row_ind:\n",
    "        class_ind = np.argmax(pred[ind])\n",
    "        class_arr[class_ind].append(np.max(pred[ind]))\n",
    "    for arr in class_arr:\n",
    "        dist_arr.append([np.mean(arr),np.std(arr)])\n",
    "    return(dist_arr)"
   ]
  },
  {
   "cell_type": "code",
   "execution_count": 6,
   "metadata": {},
   "outputs": [],
   "source": [
    "# Returns Graphs of Feature Importance by Importance Type\n",
    "\n",
    "def FeatureImportance(model, features, importance):\n",
    "    for im in importance:\n",
    "        feature_important = model.get_score(importance_type = im)\n",
    "        keys = list(feature_important.keys())\n",
    "        feature_chars = []\n",
    "        keylist = []\n",
    "        for key in keys:\n",
    "            keylist.append(int(key.replace('f','')))\n",
    "        for i in keylist:\n",
    "            feature_chars.append(features[i])\n",
    "        values = list(feature_important.values())\n",
    "        fdata = pd.DataFrame(data=values, index=feature_chars, columns=[\"score\"]).sort_values(by = \"score\", ascending=False)\n",
    "        fdata.plot(kind='barh', title = im)    \n",
    "        \n",
    "    "
   ]
  },
  {
   "cell_type": "code",
   "execution_count": 7,
   "metadata": {},
   "outputs": [],
   "source": [
    "# Prints Confusion Matrix\n",
    "\n",
    "def confusionmatrix(truth, pred, names):\n",
    "    cm = confusion_matrix(truth, pred)\n",
    "    plt.figure()\n",
    "    plt.imshow(cm, interpolation=\"nearest\", cmap=plt.cm.Blues)\n",
    "    plt.colorbar().set_label(\"# Classified\")\n",
    "    tick_marks = np.arange(len(names))\n",
    "    plt.xticks(tick_marks, names, rotation=45)\n",
    "    plt.yticks(tick_marks, names)\n",
    "    plt.xlabel(\"Predicted Class\")\n",
    "    plt.ylabel(\"True Class\")\n",
    "    plt.title(\"Confusion Matrix\")\n",
    "    plt.show()"
   ]
  },
  {
   "cell_type": "code",
   "execution_count": 8,
   "metadata": {},
   "outputs": [],
   "source": [
    "# Returns Accuracy Per Class\n",
    "\n",
    "def classaccuracy(truth, pred, ind, num_classes):\n",
    "    classes = np.arange(num_classes)\n",
    "    predcl = np.asarray([np.argmax(pred[i]) for i in ind])\n",
    "    acc = []\n",
    "    for cl in classes:\n",
    "        truth_len = len(np.where(truth == cl)[0])\n",
    "        pred_len = len(np.where(predcl == cl)[0])\n",
    "        acc.append(pred_len/truth_len)\n",
    "    return(acc)"
   ]
  },
  {
   "cell_type": "code",
   "execution_count": 9,
   "metadata": {},
   "outputs": [],
   "source": [
    "#Splits our data into train/test\n",
    "\n",
    "def Data_Splitter(Dataset, ttsplit):\n",
    "    X = Dataset.iloc[:,0]\n",
    "    y = Dataset.iloc[:,1]\n",
    "    \n",
    "    X_train, X_test, y_train, y_test = train_test_split(X, y, test_size=ttsplit , random_state = 42)\n",
    "    X_train, X_val, y_train, y_val = train_test_split(X_train, y_train, test_size=ttsplit , random_state = 42)\n",
    "\n",
    "    return X_train, X_val, X_test, y_train, y_val, y_test"
   ]
  },
  {
   "cell_type": "code",
   "execution_count": 40,
   "metadata": {},
   "outputs": [],
   "source": [
    "# Tf-idf Transformation on Training and Testing data based on max_features # of vocabulary words\n",
    "# generated from each file class.\n",
    "\n",
    "def Char_vectorizer2(X_train, y_train, X_test, y_test, filetype, ngram_range, max_features, load):\n",
    "    \n",
    "    fitset = trainselector2(np.array(X_train), np.array(y_train), len(filetype))\n",
    "    \n",
    "    if load == False:\n",
    "        start = time.time()\n",
    "        print(\"Generating Character Vectorizer...\")\n",
    "        char_vocab = {}\n",
    "        for fileset in fitset:\n",
    "            char_vectorizer = TfidfVectorizer(analyzer = 'char',\n",
    "                ngram_range = ngram_range, max_features = max_features)\n",
    "            char_vectorizer.fit(fileset)\n",
    "            char_vocab.update(char_vectorizer.vocabulary_)\n",
    "            \n",
    "        count = -1\n",
    "        for key in char_vocab.keys():\n",
    "            count+=1\n",
    "            char_vocab[key] = count\n",
    "            \n",
    "    \n",
    "        char_vectorizer2 = TfidfVectorizer(analyzer = 'char',\n",
    "                ngram_range = ngram_range, max_features = max_features,\n",
    "                                vocabulary = char_vocab)\n",
    "        char_vectorizer2.fit(X_train)\n",
    "        print(char_vectorizer2.get_feature_names())\n",
    "        \n",
    "        train_chars = char_vectorizer2.transform(X_train)\n",
    "        test_chars = char_vectorizer2.transform(X_test)\n",
    "        pickle.dump(char_vectorizer2, open(\"tfidfcv2.pkl\", \"wb\"))\n",
    "        print(\"Character Vectorizer Saved\")\n",
    "        end = time.time()\n",
    "        print(\"Vectorizer Train Time: %d\" % (end-start))\n",
    "        \n",
    "    if load == True:\n",
    "        start = time.time()\n",
    "        print(\"Loading Character Vectorizer...\")\n",
    "        char_vectorizer = pickle.load(open(\"tfidfcv2.pkl\", 'rb'))\n",
    "        print(\"Character Vectorizer Loaded\")\n",
    "    \n",
    "        print(char_vectorizer.get_feature_names())\n",
    "        train_chars = char_vectorizer.transform(X_train)\n",
    "        test_chars = char_vectorizer.transform(X_test)\n",
    "        end = time.time()\n",
    "        print(\"Vectorizer Load Time: %d\" % (end-start))\n",
    "\n",
    "    dtrain = xgb.DMatrix(train_chars, label = y_train)\n",
    "    dtest = xgb.DMatrix(test_chars, label = y_test)\n",
    "    \n",
    "    \n",
    "    \n",
    "    return dtrain, dtest"
   ]
  },
  {
   "cell_type": "code",
   "execution_count": 153,
   "metadata": {},
   "outputs": [],
   "source": [
    "# Just vectorizes some test set\n",
    "\n",
    "def test_char_vectorizer(X_test):\n",
    "    start = time.time()\n",
    "    print(\"Loading Character Vectorizer...\")\n",
    "    char_vectorizer = pickle.load(open(\"tfidfcv2.pkl\", 'rb'))\n",
    "    print(\"Character Vectorizer Loaded\")\n",
    "    print(char_vectorizer.get_feature_names())\n",
    "    \n",
    "    test_chars = char_vectorizer.transform(X_test)\n",
    "    \n",
    "    dtest = xgb.DMatrix(test_chars)\n",
    "    end = time.time()\n",
    "    print(\"Vectorizer Load Time: %d\" % (end-start))\n",
    "    \n",
    "    return dtest"
   ]
  },
  {
   "cell_type": "code",
   "execution_count": 12,
   "metadata": {},
   "outputs": [],
   "source": [
    "# Splits our training data into parts by filetype\n",
    "\n",
    "def trainselector2(train_data, train_label, n_class):\n",
    "    labelmat = [[] for i in range(n_class)]\n",
    "    \n",
    "    for c in range(n_class):\n",
    "        t_labelloc = np.where(train_label == c)[0]\n",
    "        labelmat[c].extend(train_data[t_labelloc])\n",
    "    \n",
    "    return(labelmat)\n",
    "        "
   ]
  },
  {
   "cell_type": "code",
   "execution_count": 179,
   "metadata": {},
   "outputs": [],
   "source": [
    "# Trains XGB Classifier\n",
    "\n",
    "def TrainFileClassifier(param, num_round, test_dat, load):\n",
    "    if load == False:\n",
    "        start = time.time()\n",
    "        print(\"Training Model...\")\n",
    "        model = xgb.train(param, test_dat, num_round)\n",
    "        pickle.dump(model, open(\"xgb_class.pkl\", \"wb\"))\n",
    "        print(\"Model Saved\")\n",
    "        end = time.time()\n",
    "        print('Training time: %d' % (end-start))\n",
    "    if load == True:\n",
    "        print(\"Loading Model...\")\n",
    "        model = pickle.load(open(\"xgb_class.pkl\", \"rb\"))\n",
    "        print(\"Model Loaded\")\n",
    "        \n",
    "    return model\n",
    "    "
   ]
  },
  {
   "cell_type": "code",
   "execution_count": 225,
   "metadata": {},
   "outputs": [],
   "source": [
    "# Tests XGB Classifier\n",
    "\n",
    "def TestFileClassifier(model, data_test, filetype, y_test, output, threshold):\n",
    "  \n",
    "    global_precision = []\n",
    "    \n",
    "    for thperc in threshold:\n",
    "        y_test = np.asarray(y_test)\n",
    "        #print(len(y_test))\n",
    "        y_test_threshold = []\n",
    "        preds_threshold = []\n",
    "        start = time.time()\n",
    "        preds = model.predict(data_test)\n",
    "        end = time.time()\n",
    "        #print('Testing time: %d' % (end-start))\n",
    "        best_preds = []\n",
    "        belowthresh = 0\n",
    "        below_ind = []\n",
    "        count = -1\n",
    "        for p in range(len(y_test)):\n",
    "            if np.max(preds[p]) < thperc:\n",
    "                belowthresh += 1\n",
    "                #below_ind.append(count)\n",
    "                #preds = np.delete(preds, p, 0)\n",
    "                #y_test = np.delete(y_test, p, 0)\n",
    "                below_ind.append(p)\n",
    "                \n",
    "            else:\n",
    "                y_test_threshold.append(y_test[p])\n",
    "                preds_threshold.append(preds[p])\n",
    "                best_preds.append(np.argmax([preds[p]]))\n",
    "        #best_preds = np.asarray([np.argmax(line) for line in preds])\n",
    "        best_preds = np.array(best_preds)\n",
    "        y_test_threshold = np.array(y_test_threshold)\n",
    "        new_preds = np.delete(preds, below_ind,0)\n",
    "        if output == True:\n",
    "            char_vectorizer = pickle.load(open(\"tfidfcv2.pkl\", 'rb'))\n",
    "            #FeatureImportance(model, char_vectorizer.get_feature_names(), ['weight','cover','gain'])\n",
    "            local_precision = precision_score(y_test_threshold, best_preds, average='macro')\n",
    "            global_precision.append(local_precision)\n",
    "            #print(\"Precision: {}\".format(local_precision))\n",
    "            y_test_arr = np.asarray(y_test_threshold).reshape(1,-1).squeeze()\n",
    "            correct_rows = rowextraction(best_preds,y_test_arr)[0]\n",
    "            incorrect_rows = rowextraction(best_preds,y_test_arr)[1]\n",
    "            class_acc = classaccuracy(y_test_arr, preds_threshold, correct_rows, param['num_class'])\n",
    "            pred_uncertainty = uncertainty(preds, correct_rows, param['num_class'])\n",
    "            #for i in range(param['num_class']):\n",
    "            #    print(\"Class {}\".format(filetype[i]) + \" mean and sd: {}\".format(pred_uncertainty[i])\n",
    "            #         + \", Accuracy: {}\".format(round(class_acc[i],2)))\n",
    "            #confusionmatrix(y_test_arr, best_preds, filetype)\n",
    "            #skplt.metrics.plot_roc(y_test_arr, new_preds)\n",
    "            #plt.show()\n",
    "        #print(belowthresh/len(best_preds))\n",
    "        #print(len(incorrect_rows))\n",
    "        #print(\"Incorrectly Predicted Rows: %d\" % preds[incorrect_rows])\n",
    "        #print(len(below_ind))\n",
    "        #print(len(best_preds))\n",
    "    \n",
    "    fig, ax = plt.subplots()\n",
    "    \n",
    "    ax.plot(threshold, global_precision)\n",
    "    ax.set(xlabel = '% Confident Threshold', ylabel = 'Precision', title = 'Threshold vs Precision')\n",
    "    ax.grid()\n",
    "    \n",
    "    plt.show()\n",
    "    return best_preds"
   ]
  },
  {
   "cell_type": "code",
   "execution_count": 166,
   "metadata": {},
   "outputs": [],
   "source": [
    "dirs = ['/Users/bf/Desktop/BNL2020/BioClassifierFiles/genomic.fna',\n",
    "        '/Users/bf/Desktop/BNL2020/BioClassifierFiles/genomic.gbff',\n",
    "        '/Users/bf/Desktop/BNL2020/BioClassifierFiles/genomic.gff',\n",
    "        '/Users/bf/Desktop/BNL2020/BioClassifierFiles/FASTQ_truncated',\n",
    "        '/Users/bf/Desktop/BNL2020/BioClassifierFiles/TruncFASTQ10000',\n",
    "        '/Users/bf/Desktop/BNL2020/BioClassifierFiles/SRA_truncated',\n",
    "        '/Users/bf/Desktop/BNL2020/BioClassifierFiles/TruncSra10000'\n",
    "       ]\n",
    "filetype = ['fna', 'gbff', 'gff', 'fastq', 'sra']\n",
    "data_iterable = trainloader(dirs, filetype, 3000)"
   ]
  },
  {
   "cell_type": "code",
   "execution_count": 172,
   "metadata": {},
   "outputs": [],
   "source": [
    "param = {\n",
    "    'max_depth': 10,  # the maximum depth of each tree\n",
    "    'eta': 0.1,  # the training step for each iteration\n",
    "    'silent': 1,  # logging mode - quiet\n",
    "    'objective': 'multi:softprob',  # error evaluation for multiclass training\n",
    "    'num_class': len(filetype),  # the number of classes that exist in this datset\n",
    "    'booster' : 'dart', # Dropout added\n",
    "    'rate_drop' : 0.4, #Dropout Rate\n",
    "    'skip_drop' : 0.4 # Probability of skipping Dropout\n",
    "    } \n",
    "num_round = 40 # Number of rounds we train our XGB Classifier\n",
    "ngram_range = (4,8) # Character length we search by for Tfidf\n",
    "max_features = 12 # Vocab Words Per File Class\n",
    "Dataset = data_iterable\n",
    "ttsplit = 0.2  # Train/Test Split Percentage"
   ]
  },
  {
   "cell_type": "code",
   "execution_count": 173,
   "metadata": {},
   "outputs": [],
   "source": [
    "X_train, X_val, X_test, y_train, y_val, y_test = Data_Splitter(Dataset, ttsplit)"
   ]
  },
  {
   "cell_type": "code",
   "execution_count": 180,
   "metadata": {},
   "outputs": [
    {
     "name": "stdout",
     "output_type": "stream",
     "text": [
      "Generating Character Vectorizer...\n",
      "['agaa', 'aatt', 'attt', 'tttt', 'gaaa', 'gaag', 'aaaa', 'aaat', 'aaga', 'tgaa', 'ttta', 'taaa', 'tion', 'ion ', ' gen', 'geno', 'enom', 'nome', 'atio', ' :: ', 'tion ', 'genom', 'enome', 'ation', '=gen', 'gene', 'prot', 'rote', 'otei', 'tein', 'prote', 'rotei', 'otein', 'protei', 'rotein', 'protein', 'iiii', 'hhhh', 'gggg', 'ffff', 'fffff', 'ggggg', 'gggggg', 'ffffff', 'ggggggg', 'fffffff', 'gggggggg', 'ffffffff', '\\x01\\x00\\x00\\x00', '\\x00\\x00\\x00\\x00', '\\x00\\x00\\x00$', '\\x00\\x00$\\x01', '\\x00$\\x01\\x00', '$\\x01\\x00\\x00', '\\x00\\x00\\x00\\x00\\x00', '\\x00\\x00\\x00\\x00$', '\\x00\\x00$\\x01\\x00', '\\x00\\x00\\x00\\x00\\x00\\x00', '\\x00\\x00\\x00\\x00\\x00\\x00\\x00', '\\x00\\x00\\x00\\x00\\x00\\x00\\x00\\x00']\n",
      "Character Vectorizer Saved\n",
      "Vectorizer Train Time: 1081\n"
     ]
    }
   ],
   "source": [
    "dat2_train, dat2_val = Char_vectorizer2(X_train, y_train, X_val, y_val, filetype, ngram_range, max_features, load = False)"
   ]
  },
  {
   "cell_type": "code",
   "execution_count": 181,
   "metadata": {},
   "outputs": [
    {
     "name": "stdout",
     "output_type": "stream",
     "text": [
      "Training Model...\n",
      "[19:01:55] WARNING: /Users/travis/build/dmlc/xgboost/src/learner.cc:480: \n",
      "Parameters: { silent } might not be used.\n",
      "\n",
      "  This may not be accurate due to some parameters are only used in language bindings but\n",
      "  passed down to XGBoost core.  Or some parameters are not used but slip through this\n",
      "  verification. Please open an issue if you find above cases.\n",
      "\n",
      "\n",
      "Model Saved\n",
      "Training time: 6\n"
     ]
    }
   ],
   "source": [
    "model2 = TrainFileClassifier(param, num_round, dat2_train, load = False)"
   ]
  },
  {
   "cell_type": "code",
   "execution_count": 226,
   "metadata": {
    "scrolled": false
   },
   "outputs": [
    {
     "data": {
      "image/png": "[encoded data removed]",
      "text/plain": [
       "<Figure size 432x288 with 1 Axes>"
      ]
     },
     "metadata": {
      "needs_background": "light"
     },
     "output_type": "display_data"
    },
    {
     "data": {
      "text/plain": [
       "array([4, 0, 1, ..., 4, 0, 1])"
      ]
     },
     "execution_count": 226,
     "metadata": {},
     "output_type": "execute_result"
    }
   ],
   "source": [
    "TestFileClassifier(model2, dat2_val,filetype, y_val, output = True, threshold = np.linspace(0, .9, 30))"
   ]
  },
  {
   "cell_type": "code",
   "execution_count": null,
   "metadata": {},
   "outputs": [],
   "source": [
    "# Do stratified random sampling\n",
    "# "
   ]
  }
 ],
 "metadata": {
  "kernelspec": {
   "display_name": "Python 3",
   "language": "python",
   "name": "python3"
  },
  "language_info": {
   "codemirror_mode": {
    "name": "ipython",
    "version": 3
   },
   "file_extension": ".py",
   "mimetype": "text/x-python",
   "name": "python",
   "nbconvert_exporter": "python",
   "pygments_lexer": "ipython3",
   "version": "3.7.1"
  }
 },
 "nbformat": 4,
 "nbformat_minor": 2
}
