{
 "cells": [
  {
   "cell_type": "code",
   "execution_count": 542,
   "metadata": {},
   "outputs": [],
   "source": [
    "import pandas as pd\n",
    "import numpy as np\n",
    "import sklearn\n",
    "from sklearn.model_selection import train_test_split\n",
    "from sklearn.feature_extraction.text import TfidfVectorizer\n",
    "from sklearn.pipeline import FeatureUnion\n",
    "import re\n",
    "import xgboost as xgb\n",
    "from sklearn.metrics import precision_score\n",
    "import os\n",
    "import gzip\n",
    "import random\n",
    "from matplotlib import pyplot as plt\n",
    "from sklearn.pipeline import make_pipeline\n",
    "import pickle\n",
    "import seaborn as sns\n",
    "from sklearn.metrics import confusion_matrix"
   ]
  },
  {
   "cell_type": "code",
   "execution_count": 4,
   "metadata": {},
   "outputs": [],
   "source": [
    "#Returns a string of length bytes long\n",
    "def dataloader(filepath, length):\n",
    "    f = gzip.GzipFile(fileobj=open(filepath, 'rb'))\n",
    "    data = f.read(length)\n",
    "    return data.decode(\"utf-8\")"
   ]
  },
  {
   "cell_type": "code",
   "execution_count": 744,
   "metadata": {},
   "outputs": [],
   "source": [
    "#Returns dataframe of # of files long. Analyze the first length bytes of each file\n",
    "def trainloader(direclist, filetype, length):\n",
    "    fileid = np.arange(len(filetype))\n",
    "    dat = []\n",
    "    filelabels = []\n",
    "    c = -1\n",
    "    for direc in direclist:\n",
    "        c+=1\n",
    "        for file in os.listdir(direc):\n",
    "            if file.endswith('.gz'):\n",
    "                tempdat = dataloader(os.path.join(direc,file),length)\n",
    "                dat = dat + [tempdat]\n",
    "                filelabels.append(fileid[c])\n",
    "            if file.endswith('fastq.truncated'):\n",
    "                tfile = open(os.path.join(direc,file), 'rb')\n",
    "                tempdat = tfile.read(length).decode(\"utf-8\")\n",
    "                dat = dat + [tempdat]\n",
    "                filelabels.append(fileid[c])\n",
    "            if file.endswith('sra.truncated'):\n",
    "                tfile = open(os.path.join(direc,file), 'rb')\n",
    "                tempdat = tfile.read(length).decode(\"ISO-8859-1\")\n",
    "                dat = dat + [tempdat]\n",
    "                filelabels.append(fileid[c])\n",
    "    data = {'Data': dat,\n",
    "        'Type': filelabels\n",
    "    }\n",
    "    df = pd.DataFrame(data, columns = ['Data', 'Type'])\n",
    "    return(df)"
   ]
  },
  {
   "cell_type": "code",
   "execution_count": 163,
   "metadata": {},
   "outputs": [],
   "source": [
    "def rowextraction(predicted, truth):\n",
    "    return(np.where(predicted==truth)[0])"
   ]
  },
  {
   "cell_type": "code",
   "execution_count": 209,
   "metadata": {},
   "outputs": [],
   "source": [
    "def uncertainty(pred, row_ind, num_classes):\n",
    "    class_arr = [[] for i in range(num_classes)]\n",
    "    dist_arr = []\n",
    "    for ind in row_ind:\n",
    "        class_ind = np.argmax(pred[ind])\n",
    "        class_arr[class_ind].append(np.max(pred[ind]))\n",
    "    for arr in class_arr:\n",
    "        dist_arr.append([np.mean(arr),np.std(arr)])\n",
    "    return(dist_arr)"
   ]
  },
  {
   "cell_type": "code",
   "execution_count": 7,
   "metadata": {},
   "outputs": [],
   "source": [
    "def FeatureImportance(model, features, importance):\n",
    "    for im in importance:\n",
    "        feature_important = model.get_score(importance_type = im)\n",
    "        keys = list(feature_important.keys())\n",
    "        feature_chars = []\n",
    "        keylist = []\n",
    "        for key in keys:\n",
    "            keylist.append(int(key.replace('f','')))\n",
    "        for i in keylist:\n",
    "            feature_chars.append(features[i])\n",
    "        values = list(feature_important.values())\n",
    "        fdata = pd.DataFrame(data=values, index=feature_chars, columns=[\"score\"]).sort_values(by = \"score\", ascending=False)\n",
    "        fdata.plot(kind='barh', title = im)    \n",
    "        \n",
    "    "
   ]
  },
  {
   "cell_type": "code",
   "execution_count": 238,
   "metadata": {},
   "outputs": [],
   "source": [
    "def confusionmatrix(truth, pred, names):\n",
    "    cm = confusion_matrix(truth, pred)\n",
    "    plt.figure()\n",
    "    plt.imshow(cm, interpolation=\"nearest\", cmap=plt.cm.Blues)\n",
    "    plt.colorbar()\n",
    "    tick_marks = np.arange(len(names))\n",
    "    plt.xticks(tick_marks, names, rotation=45)\n",
    "    plt.yticks(tick_marks, names)\n",
    "    plt.xlabel(\"Predicted Class\")\n",
    "    plt.ylabel(\"True Class\")\n",
    "    plt.show()"
   ]
  },
  {
   "cell_type": "code",
   "execution_count": 220,
   "metadata": {},
   "outputs": [],
   "source": [
    "def classaccuracy(truth, pred, ind, num_classes):\n",
    "    classes = np.arange(num_classes)\n",
    "    predcl = np.asarray([np.argmax(pred[i]) for i in ind])\n",
    "    acc = []\n",
    "    for cl in classes:\n",
    "        truth_len = len(np.where(truth == cl)[0])\n",
    "        pred_len = len(np.where(predcl == cl)[0])\n",
    "        acc.append(pred_len/truth_len)\n",
    "    return(acc)"
   ]
  },
  {
   "cell_type": "code",
   "execution_count": 587,
   "metadata": {},
   "outputs": [],
   "source": [
    "def trainselector(train_data, train_label, n_class, split):\n",
    "    labelmat = [[] for i in range(n_class)]\n",
    "    splitnum = []\n",
    "    datmat = []\n",
    "    \n",
    "    total_len = len(train_data)\n",
    "    for s in split:\n",
    "        nchoice = int(total_len*s)\n",
    "        splitnum.append(nchoice)\n",
    "    \n",
    "    for c in range(n_class):\n",
    "        t_labelloc = np.where(train_label == c)[0]\n",
    "        #print(t_labelloc)\n",
    "        #print(len(train_data[t_labelloc]))\n",
    "        labelmat[c].extend(train_data[t_labelloc])\n",
    "   \n",
    "    for n in range(len(splitnum)):\n",
    "        datmat.extend(np.random.choice(labelmat[n],splitnum[n]))\n",
    "    \n",
    "    \n",
    "    return(datmat)\n",
    "        "
   ]
  },
  {
   "cell_type": "code",
   "execution_count": 607,
   "metadata": {},
   "outputs": [],
   "source": [
    "def FileClassifier(Dataset, ttsplit, filetype, fit_split, ngram_range, max_features, param, num_round, load):\n",
    "    \n",
    "    X = Dataset.iloc[:,0]\n",
    "    y = Dataset.iloc[:,1]\n",
    "    \n",
    "    X_train, X_test, y_train, y_test = train_test_split(X, y, test_size=ttsplit, random_state = 42)\n",
    "    fitset = trainselector(np.array(X_train), np.array(y_train), len(filetype), fit_split)\n",
    "    \n",
    "    if load == False:\n",
    "        print(\"Generating Character Vectorizer...\")\n",
    "        TfidfVectorizer.partial_fit = partial_fit\n",
    "        char_vectorizer = TfidfVectorizer(analyzer = 'char',\n",
    "            ngram_range = ngram_range, max_features = max_features)\n",
    "        char_vectorizer.fit(fitset)\n",
    "        print(char_vectorizer.vocabulary_)\n",
    "        print(char_vectorizer.get_feature_names())\n",
    "        char_vectorizer2 = TfidfVectorizer(analyzer = 'char',\n",
    "            ngram_range = ngram_range, max_features = max_features,\n",
    "                                vocabulary = char_vectorizer.vocabulary_)\n",
    "        char_vectorizer2.fit(X_train)\n",
    "        print(char_vectorizer2.vocabulary_)\n",
    "        print(char_vectorizer2.get_feature_names())\n",
    "        train_chars = char_vectorizer2.transform(X_train)\n",
    "        test_chars = char_vectorizer2.transform(X_test)\n",
    "        pickle.dump(char_vectorizer, open(\"tfidfcv.pkl\", \"wb\"))\n",
    "        print(\"Character Vectorizer Saved\")\n",
    "        \n",
    "    if load == True:\n",
    "        print(\"Loading Character Vectorizer...\")\n",
    "        char_vectorizer = pickle.load(open(\"tfidfcv.pkl\", 'rb'))\n",
    "        print(\"Character Vectorizer Loaded\")\n",
    "        print(char_vectorizer.vocabulary_)\n",
    "        print(char_vectorizer.get_feature_names())\n",
    "        train_chars = char_vectorizer.transform(X_train)\n",
    "        test_chars = char_vectorizer.transform(X_test)\n",
    "\n",
    "    dtrain = xgb.DMatrix(train_chars, label = y_train)\n",
    "    dtest = xgb.DMatrix(test_chars, label = y_test)\n",
    "    \n",
    "    if load == False:\n",
    "        print(\"Training Model...\")\n",
    "        model = xgb.train(param, dtrain, num_round)\n",
    "        pickle.dump(model, open(\"xgb_class.pkl\", \"wb\"))\n",
    "        print(\"Model Saved\")\n",
    "    if load == True:\n",
    "        print(\"Loading Model...\")\n",
    "        model = pickle.load(open(\"xgb_class.pkl\", \"rb\"))\n",
    "        print(\"Model Loaded\")\n",
    "        \n",
    "    FeatureImportance(model, char_vectorizer.get_feature_names(), ['weight','cover','gain'])\n",
    "    \n",
    "    \n",
    "    preds = model.predict(dtest)\n",
    "    best_preds = np.asarray([np.argmax(line) for line in preds])\n",
    "    print(\"Precision: {}\".format(precision_score(y_test, best_preds, average='macro')))\n",
    "    y_test_arr = np.asarray(y_test).reshape(1,-1).squeeze()\n",
    "    correct_rows = rowextraction(best_preds,y_test_arr)\n",
    "    class_acc = classaccuracy(y_test_arr, preds, correct_rows, param['num_class'])\n",
    "    pred_uncertainty = uncertainty(preds, correct_rows, param['num_class'])\n",
    "    for i in range(param['num_class']):\n",
    "        print(\"Class {}\".format(filetype[i]) + \" mean and sd: {}\".format(pred_uncertainty[i])\n",
    "             + \", Accuracy: {}\".format(round(class_acc[i],2)))\n",
    "    confusionmatrix(y_test_arr, best_preds, filetype)\n",
    "    \n",
    "    \n",
    "    \n",
    "    return(model)"
   ]
  },
  {
   "cell_type": "code",
   "execution_count": 745,
   "metadata": {},
   "outputs": [],
   "source": [
    "dirs = ['/Users/bf/Desktop/BNL2020/BioClassifierFiles/genomic.fna',\n",
    "        '/Users/bf/Desktop/BNL2020/BioClassifierFiles/genomic.gbff',\n",
    "        '/Users/bf/Desktop/BNL2020/BioClassifierFiles/genomic.gff',\n",
    "        '/Users/bf/Desktop/BNL2020/BioClassifierFiles/FASTQ_truncated',\n",
    "        '/Users/bf/Desktop/BNL2020/BioClassifierFiles/SRA_truncated'\n",
    "       ]\n",
    "filetype = ['fna', 'gbff', 'gff', 'fastq', 'sra']\n",
    "data_iterable = trainloader(dirs, filetype, 3000)"
   ]
  },
  {
   "cell_type": "code",
   "execution_count": 742,
   "metadata": {},
   "outputs": [],
   "source": [
    "param = {\n",
    "    'max_depth': 10,  # the maximum depth of each tree\n",
    "    'eta': 0.1,  # the training step for each iteration\n",
    "    'silent': 1,  # logging mode - quiet\n",
    "    'objective': 'multi:softprob',  # error evaluation for multiclass training\n",
    "    'num_class': len(filetype)}  # the number of classes that exist in this datset\n",
    "num_round = 40 \n",
    "ngram_range = (4,8)\n",
    "max_features = 60\n",
    "fit_split = [0.21, 0.31, 0.34, 0.12, 0.02]\n",
    "Dataset = data_iterable\n",
    "ttsplit = 0.25\n",
    "load = True"
   ]
  },
  {
   "cell_type": "code",
   "execution_count": 743,
   "metadata": {
    "scrolled": false
   },
   "outputs": [
    {
     "name": "stdout",
     "output_type": "stream",
     "text": [
      "Loading Character Vectorizer...\n",
      "Character Vectorizer Loaded\n",
      "{'aaga': 14, 'agaa': 18, 'gaag': 32, 'gaaa': 31, 'aaac': 10, 'caaa': 21, 'aaaa': 9, 'aaat': 12, 'tgaa': 53, 'aatt': 16, 'attt': 20, 'tttt': 59, 'ttta': 57, 'ttat': 55, 'tatt': 50, 'atta': 19, 'ttaa': 54, 'acaa': 17, 'aaag': 11, 'aagc': 15, 'ttga': 56, 'tttc': 58, 'tcaa': 51, 'cttt': 22, 'taaa': 49, 'aaca': 13, 'gggg': 34, 'ggggg': 35, 'gggggg': 36, 'prot': 42, 'rote': 46, 'otei': 40, 'tein': 52, 'gene': 33, 'prote': 43, 'rotei': 47, 'otein': 41, 'protei': 44, 'rotein': 48, 'protein': 45, 'ggggggg': 37, 'ion ': 39, '\\tgen': 3, 'ffff': 26, 'fffff': 27, 'ffffff': 28, 'fffffff': 29, 'gggggggg': 38, 'ffffffff': 30, 'eeee': 23, 'eeeee': 24, 'eeeeee': 25, '????': 4, '?????': 5, '??????': 6, '???????': 7, '????????': 8, '\\x00\\x00\\x00\\x00': 0, '\\x00\\x00\\x00\\x00\\x00': 1, '\\x00\\x00\\x00\\x00\\x00\\x00': 2}\n",
      "['\\x00\\x00\\x00\\x00', '\\x00\\x00\\x00\\x00\\x00', '\\x00\\x00\\x00\\x00\\x00\\x00', '\\tgen', '????', '?????', '??????', '???????', '????????', 'aaaa', 'aaac', 'aaag', 'aaat', 'aaca', 'aaga', 'aagc', 'aatt', 'acaa', 'agaa', 'atta', 'attt', 'caaa', 'cttt', 'eeee', 'eeeee', 'eeeeee', 'ffff', 'fffff', 'ffffff', 'fffffff', 'ffffffff', 'gaaa', 'gaag', 'gene', 'gggg', 'ggggg', 'gggggg', 'ggggggg', 'gggggggg', 'ion ', 'otei', 'otein', 'prot', 'prote', 'protei', 'protein', 'rote', 'rotei', 'rotein', 'taaa', 'tatt', 'tcaa', 'tein', 'tgaa', 'ttaa', 'ttat', 'ttga', 'ttta', 'tttc', 'tttt']\n",
      "Loading Model...\n",
      "Model Loaded\n",
      "Precision: 0.9925925925925926\n",
      "Class fna mean and sd: [0.9242642, 0.06190586], Accuracy: 1.0\n",
      "Class gbff mean and sd: [0.9527131, 0.0756684], Accuracy: 0.96\n",
      "Class gff mean and sd: [0.9688556, 0.0029005897], Accuracy: 1.0\n",
      "Class fastq mean and sd: [0.9405618, 0.1193614], Accuracy: 1.0\n",
      "Class sra mean and sd: [0.972243, 0.00063799263], Accuracy: 1.0\n"
     ]
    },
    {
     "data": {
      "image/png": "[encoded data removed]",
      "text/plain": [
       "<Figure size 432x288 with 1 Axes>"
      ]
     },
     "metadata": {
      "needs_background": "light"
     },
     "output_type": "display_data"
    },
    {
     "data": {
      "image/png": "[encoded data removed]",
      "text/plain": [
       "<Figure size 432x288 with 1 Axes>"
      ]
     },
     "metadata": {
      "needs_background": "light"
     },
     "output_type": "display_data"
    },
    {
     "data": {
      "image/png": "[encoded data removed]",
      "text/plain": [
       "<Figure size 432x288 with 1 Axes>"
      ]
     },
     "metadata": {
      "needs_background": "light"
     },
     "output_type": "display_data"
    },
    {
     "data": {
      "image/png": "[encoded data removed]",
      "text/plain": [
       "<Figure size 432x288 with 2 Axes>"
      ]
     },
     "metadata": {
      "needs_background": "light"
     },
     "output_type": "display_data"
    }
   ],
   "source": [
    "xgbmodel = FileClassifier(Dataset, ttsplit, filetype, fit_split, ngram_range, max_features, param, num_round, load)"
   ]
  }
 ],
 "metadata": {
  "kernelspec": {
   "display_name": "Python 3",
   "language": "python",
   "name": "python3"
  },
  "language_info": {
   "codemirror_mode": {
    "name": "ipython",
    "version": 3
   },
   "file_extension": ".py",
   "mimetype": "text/x-python",
   "name": "python",
   "nbconvert_exporter": "python",
   "pygments_lexer": "ipython3",
   "version": "3.7.1"
  }
 },
 "nbformat": 4,
 "nbformat_minor": 2
}
